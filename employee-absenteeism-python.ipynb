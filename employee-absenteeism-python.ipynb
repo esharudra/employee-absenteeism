{
  "nbformat": 4,
  "nbformat_minor": 0,
  "metadata": {
    "kernelspec": {
      "display_name": "Python 3",
      "language": "python",
      "name": "python3"
    },
    "language_info": {
      "codemirror_mode": {
        "name": "ipython",
        "version": 3
      },
      "file_extension": ".py",
      "mimetype": "text/x-python",
      "name": "python",
      "nbconvert_exporter": "python",
      "pygments_lexer": "ipython3",
      "version": "3.5.2"
    },
    "colab": {
      "name": "Project-2-Employee-Absenteeism.ipynb",
      "version": "0.3.2",
      "provenance": [],
      "collapsed_sections": [
        "Njmqpy068ii3",
        "qePS-2RFpVGU",
        "fBIjwdWqpVGc",
        "kBogff5_pVGi",
        "8hC812m4pVGp",
        "ReLWZiifSfnl"
      ],
      "toc_visible": true
    }
  },
  "cells": [
    {
      "cell_type": "code",
      "metadata": {
        "deletable": true,
        "editable": true,
        "id": "JlBY-GOYpU6c",
        "colab_type": "code",
        "colab": {
          "base_uri": "https://localhost:8080/",
          "height": 89
        },
        "outputId": "5701e82b-a2c6-4dd7-b9dd-b49441d5b63a"
      },
      "source": [
        "#Import Libraries\n",
        "import os\n",
        "import pandas as pd\n",
        "import numpy as np\n",
        "\n",
        "import matplotlib.pyplot as plt\n",
        "import seaborn as sns\n",
        "\n",
        "from scipy.stats import chi2_contingency\n",
        "from fancyimpute import KNN \n",
        "from sklearn.metrics import r2_score\n",
        "from scipy import stats\n",
        "\n",
        "# %matplotlib inline"
      ],
      "execution_count": 1,
      "outputs": [
        {
          "output_type": "stream",
          "text": [
            "/usr/local/lib/python3.6/dist-packages/sklearn/externals/six.py:31: DeprecationWarning: The module is deprecated in version 0.21 and will be removed in version 0.23 since we've dropped support for Python 2.7. Please rely on the official version of six (https://pypi.org/project/six/).\n",
            "  \"(https://pypi.org/project/six/).\", DeprecationWarning)\n",
            "Using TensorFlow backend.\n"
          ],
          "name": "stderr"
        }
      ]
    },
    {
      "cell_type": "code",
      "metadata": {
        "deletable": true,
        "editable": true,
        "id": "brUjGfnSpU6s",
        "colab_type": "code",
        "colab": {}
      },
      "source": [
        "#Set working directory\n",
        "os.chdir(\"/content\")"
      ],
      "execution_count": 0,
      "outputs": []
    },
    {
      "cell_type": "code",
      "metadata": {
        "deletable": true,
        "editable": true,
        "id": "o6EnF-bfpU63",
        "colab_type": "code",
        "colab": {}
      },
      "source": [
        "#Load data\n",
        "absent_data = pd.read_excel(\"Absenteeism_at_work_Project.xls\")"
      ],
      "execution_count": 0,
      "outputs": []
    },
    {
      "cell_type": "markdown",
      "metadata": {
        "id": "WjmTHTkAgLsP",
        "colab_type": "text"
      },
      "source": [
        "### Exploratory Data Analysis"
      ]
    },
    {
      "cell_type": "code",
      "metadata": {
        "id": "GTj8GxRqgyau",
        "colab_type": "code",
        "outputId": "534cc49b-0c6e-411c-90fb-c34aa98fd710",
        "colab": {
          "base_uri": "https://localhost:8080/",
          "height": 35
        }
      },
      "source": [
        "# Check size of Data\n",
        "absent_data.shape"
      ],
      "execution_count": 4,
      "outputs": [
        {
          "output_type": "execute_result",
          "data": {
            "text/plain": [
              "(740, 21)"
            ]
          },
          "metadata": {
            "tags": []
          },
          "execution_count": 4
        }
      ]
    },
    {
      "cell_type": "code",
      "metadata": {
        "deletable": true,
        "editable": true,
        "id": "sJAGnp_1pU7E",
        "colab_type": "code",
        "outputId": "349855cc-8a7f-49f9-9b62-ea7e162a0f81",
        "colab": {
          "base_uri": "https://localhost:8080/",
          "height": 274
        }
      },
      "source": [
        "#Check Top 5 data\n",
        "absent_data.head()"
      ],
      "execution_count": 5,
      "outputs": [
        {
          "output_type": "execute_result",
          "data": {
            "text/html": [
              "<div>\n",
              "<style scoped>\n",
              "    .dataframe tbody tr th:only-of-type {\n",
              "        vertical-align: middle;\n",
              "    }\n",
              "\n",
              "    .dataframe tbody tr th {\n",
              "        vertical-align: top;\n",
              "    }\n",
              "\n",
              "    .dataframe thead th {\n",
              "        text-align: right;\n",
              "    }\n",
              "</style>\n",
              "<table border=\"1\" class=\"dataframe\">\n",
              "  <thead>\n",
              "    <tr style=\"text-align: right;\">\n",
              "      <th></th>\n",
              "      <th>ID</th>\n",
              "      <th>Reason for absence</th>\n",
              "      <th>Month of absence</th>\n",
              "      <th>Day of the week</th>\n",
              "      <th>Seasons</th>\n",
              "      <th>Transportation expense</th>\n",
              "      <th>Distance from Residence to Work</th>\n",
              "      <th>Service time</th>\n",
              "      <th>Age</th>\n",
              "      <th>Work load Average/day</th>\n",
              "      <th>Hit target</th>\n",
              "      <th>Disciplinary failure</th>\n",
              "      <th>Education</th>\n",
              "      <th>Son</th>\n",
              "      <th>Social drinker</th>\n",
              "      <th>Social smoker</th>\n",
              "      <th>Pet</th>\n",
              "      <th>Weight</th>\n",
              "      <th>Height</th>\n",
              "      <th>Body mass index</th>\n",
              "      <th>Absenteeism time in hours</th>\n",
              "    </tr>\n",
              "  </thead>\n",
              "  <tbody>\n",
              "    <tr>\n",
              "      <th>0</th>\n",
              "      <td>11</td>\n",
              "      <td>26.0</td>\n",
              "      <td>7.0</td>\n",
              "      <td>3</td>\n",
              "      <td>1</td>\n",
              "      <td>289.0</td>\n",
              "      <td>36.0</td>\n",
              "      <td>13.0</td>\n",
              "      <td>33.0</td>\n",
              "      <td>239554.0</td>\n",
              "      <td>97.0</td>\n",
              "      <td>0.0</td>\n",
              "      <td>1.0</td>\n",
              "      <td>2.0</td>\n",
              "      <td>1.0</td>\n",
              "      <td>0.0</td>\n",
              "      <td>1.0</td>\n",
              "      <td>90.0</td>\n",
              "      <td>172.0</td>\n",
              "      <td>30.0</td>\n",
              "      <td>4.0</td>\n",
              "    </tr>\n",
              "    <tr>\n",
              "      <th>1</th>\n",
              "      <td>36</td>\n",
              "      <td>0.0</td>\n",
              "      <td>7.0</td>\n",
              "      <td>3</td>\n",
              "      <td>1</td>\n",
              "      <td>118.0</td>\n",
              "      <td>13.0</td>\n",
              "      <td>18.0</td>\n",
              "      <td>50.0</td>\n",
              "      <td>239554.0</td>\n",
              "      <td>97.0</td>\n",
              "      <td>1.0</td>\n",
              "      <td>1.0</td>\n",
              "      <td>1.0</td>\n",
              "      <td>1.0</td>\n",
              "      <td>0.0</td>\n",
              "      <td>0.0</td>\n",
              "      <td>98.0</td>\n",
              "      <td>178.0</td>\n",
              "      <td>31.0</td>\n",
              "      <td>0.0</td>\n",
              "    </tr>\n",
              "    <tr>\n",
              "      <th>2</th>\n",
              "      <td>3</td>\n",
              "      <td>23.0</td>\n",
              "      <td>7.0</td>\n",
              "      <td>4</td>\n",
              "      <td>1</td>\n",
              "      <td>179.0</td>\n",
              "      <td>51.0</td>\n",
              "      <td>18.0</td>\n",
              "      <td>38.0</td>\n",
              "      <td>239554.0</td>\n",
              "      <td>97.0</td>\n",
              "      <td>0.0</td>\n",
              "      <td>1.0</td>\n",
              "      <td>0.0</td>\n",
              "      <td>1.0</td>\n",
              "      <td>0.0</td>\n",
              "      <td>0.0</td>\n",
              "      <td>89.0</td>\n",
              "      <td>170.0</td>\n",
              "      <td>31.0</td>\n",
              "      <td>2.0</td>\n",
              "    </tr>\n",
              "    <tr>\n",
              "      <th>3</th>\n",
              "      <td>7</td>\n",
              "      <td>7.0</td>\n",
              "      <td>7.0</td>\n",
              "      <td>5</td>\n",
              "      <td>1</td>\n",
              "      <td>279.0</td>\n",
              "      <td>5.0</td>\n",
              "      <td>14.0</td>\n",
              "      <td>39.0</td>\n",
              "      <td>239554.0</td>\n",
              "      <td>97.0</td>\n",
              "      <td>0.0</td>\n",
              "      <td>1.0</td>\n",
              "      <td>2.0</td>\n",
              "      <td>1.0</td>\n",
              "      <td>1.0</td>\n",
              "      <td>0.0</td>\n",
              "      <td>68.0</td>\n",
              "      <td>168.0</td>\n",
              "      <td>24.0</td>\n",
              "      <td>4.0</td>\n",
              "    </tr>\n",
              "    <tr>\n",
              "      <th>4</th>\n",
              "      <td>11</td>\n",
              "      <td>23.0</td>\n",
              "      <td>7.0</td>\n",
              "      <td>5</td>\n",
              "      <td>1</td>\n",
              "      <td>289.0</td>\n",
              "      <td>36.0</td>\n",
              "      <td>13.0</td>\n",
              "      <td>33.0</td>\n",
              "      <td>239554.0</td>\n",
              "      <td>97.0</td>\n",
              "      <td>0.0</td>\n",
              "      <td>1.0</td>\n",
              "      <td>2.0</td>\n",
              "      <td>1.0</td>\n",
              "      <td>0.0</td>\n",
              "      <td>1.0</td>\n",
              "      <td>90.0</td>\n",
              "      <td>172.0</td>\n",
              "      <td>30.0</td>\n",
              "      <td>2.0</td>\n",
              "    </tr>\n",
              "  </tbody>\n",
              "</table>\n",
              "</div>"
            ],
            "text/plain": [
              "   ID  Reason for absence  ...  Body mass index  Absenteeism time in hours\n",
              "0  11                26.0  ...             30.0                        4.0\n",
              "1  36                 0.0  ...             31.0                        0.0\n",
              "2   3                23.0  ...             31.0                        2.0\n",
              "3   7                 7.0  ...             24.0                        4.0\n",
              "4  11                23.0  ...             30.0                        2.0\n",
              "\n",
              "[5 rows x 21 columns]"
            ]
          },
          "metadata": {
            "tags": []
          },
          "execution_count": 5
        }
      ]
    },
    {
      "cell_type": "code",
      "metadata": {
        "deletable": true,
        "editable": true,
        "id": "JAY9ZELYpU7T",
        "colab_type": "code",
        "outputId": "0aae1ba7-4352-4f37-df27-3571ee49bfc7",
        "colab": {
          "base_uri": "https://localhost:8080/",
          "height": 399
        }
      },
      "source": [
        "#Check Data Type\n",
        "absent_data.dtypes"
      ],
      "execution_count": 6,
      "outputs": [
        {
          "output_type": "execute_result",
          "data": {
            "text/plain": [
              "ID                                   int64\n",
              "Reason for absence                 float64\n",
              "Month of absence                   float64\n",
              "Day of the week                      int64\n",
              "Seasons                              int64\n",
              "Transportation expense             float64\n",
              "Distance from Residence to Work    float64\n",
              "Service time                       float64\n",
              "Age                                float64\n",
              "Work load Average/day              float64\n",
              "Hit target                         float64\n",
              "Disciplinary failure               float64\n",
              "Education                          float64\n",
              "Son                                float64\n",
              "Social drinker                     float64\n",
              "Social smoker                      float64\n",
              "Pet                                float64\n",
              "Weight                             float64\n",
              "Height                             float64\n",
              "Body mass index                    float64\n",
              "Absenteeism time in hours          float64\n",
              "dtype: object"
            ]
          },
          "metadata": {
            "tags": []
          },
          "execution_count": 6
        }
      ]
    },
    {
      "cell_type": "code",
      "metadata": {
        "deletable": true,
        "editable": true,
        "id": "TP7HubkGpU7f",
        "colab_type": "code",
        "outputId": "62a4742f-9da9-4bf4-ebc7-98b97c1e3b08",
        "colab": {
          "base_uri": "https://localhost:8080/",
          "height": 399
        }
      },
      "source": [
        "#Check Number of Unique values\n",
        "absent_data.nunique()"
      ],
      "execution_count": 7,
      "outputs": [
        {
          "output_type": "execute_result",
          "data": {
            "text/plain": [
              "ID                                 36\n",
              "Reason for absence                 28\n",
              "Month of absence                   13\n",
              "Day of the week                     5\n",
              "Seasons                             4\n",
              "Transportation expense             24\n",
              "Distance from Residence to Work    25\n",
              "Service time                       18\n",
              "Age                                22\n",
              "Work load Average/day              38\n",
              "Hit target                         13\n",
              "Disciplinary failure                2\n",
              "Education                           4\n",
              "Son                                 5\n",
              "Social drinker                      2\n",
              "Social smoker                       2\n",
              "Pet                                 6\n",
              "Weight                             26\n",
              "Height                             14\n",
              "Body mass index                    17\n",
              "Absenteeism time in hours          19\n",
              "dtype: int64"
            ]
          },
          "metadata": {
            "tags": []
          },
          "execution_count": 7
        }
      ]
    },
    {
      "cell_type": "markdown",
      "metadata": {
        "id": "rmHWVZUchZdo",
        "colab_type": "text"
      },
      "source": [
        "Here, **Absenteeism time in hours** is our target variable and rest of the data are predictors (continuous and categorial)"
      ]
    },
    {
      "cell_type": "code",
      "metadata": {
        "deletable": true,
        "editable": true,
        "id": "LDT39iFupU7y",
        "colab_type": "code",
        "colab": {}
      },
      "source": [
        "# Separating Continuous and Categorical Variables\n",
        "\n",
        "# Continuous Variables\n",
        "cont_vars = [\n",
        "    'Distance from Residence to Work', \n",
        "    'Service time', 'Age', \n",
        "    'Work load Average/day ', \n",
        "    'Transportation expense',\n",
        "    'Hit target', \n",
        "    'Weight', \n",
        "    'Height', \n",
        "    'Body mass index', \n",
        "    'Absenteeism time in hours'\n",
        "]\n",
        "\n",
        "# Categorical Variables\n",
        "cat_vars = [\n",
        "    'ID',\n",
        "    'Reason for absence',\n",
        "    'Month of absence',\n",
        "    'Day of the week',\n",
        "    'Seasons',\n",
        "    'Disciplinary failure', \n",
        "    'Education', \n",
        "    'Social drinker',\n",
        "    'Social smoker', \n",
        "    'Pet', \n",
        "    'Son'\n",
        "]"
      ],
      "execution_count": 0,
      "outputs": []
    },
    {
      "cell_type": "markdown",
      "metadata": {
        "deletable": true,
        "editable": true,
        "id": "o0lCETJDpU76",
        "colab_type": "text"
      },
      "source": [
        "### Missing Value Analysis"
      ]
    },
    {
      "cell_type": "code",
      "metadata": {
        "deletable": true,
        "editable": true,
        "id": "2Ir0zlKBpU79",
        "colab_type": "code",
        "outputId": "aa8f5be3-c61a-49c4-d03c-34ded7cdaf57",
        "colab": {
          "base_uri": "https://localhost:8080/",
          "height": 693
        }
      },
      "source": [
        "#Create dataframe with missing values present in each variable\n",
        "missing_val = pd.DataFrame(absent_data.isnull().sum())\n",
        "\n",
        "missing_val"
      ],
      "execution_count": 9,
      "outputs": [
        {
          "output_type": "execute_result",
          "data": {
            "text/html": [
              "<div>\n",
              "<style scoped>\n",
              "    .dataframe tbody tr th:only-of-type {\n",
              "        vertical-align: middle;\n",
              "    }\n",
              "\n",
              "    .dataframe tbody tr th {\n",
              "        vertical-align: top;\n",
              "    }\n",
              "\n",
              "    .dataframe thead th {\n",
              "        text-align: right;\n",
              "    }\n",
              "</style>\n",
              "<table border=\"1\" class=\"dataframe\">\n",
              "  <thead>\n",
              "    <tr style=\"text-align: right;\">\n",
              "      <th></th>\n",
              "      <th>0</th>\n",
              "    </tr>\n",
              "  </thead>\n",
              "  <tbody>\n",
              "    <tr>\n",
              "      <th>ID</th>\n",
              "      <td>0</td>\n",
              "    </tr>\n",
              "    <tr>\n",
              "      <th>Reason for absence</th>\n",
              "      <td>3</td>\n",
              "    </tr>\n",
              "    <tr>\n",
              "      <th>Month of absence</th>\n",
              "      <td>1</td>\n",
              "    </tr>\n",
              "    <tr>\n",
              "      <th>Day of the week</th>\n",
              "      <td>0</td>\n",
              "    </tr>\n",
              "    <tr>\n",
              "      <th>Seasons</th>\n",
              "      <td>0</td>\n",
              "    </tr>\n",
              "    <tr>\n",
              "      <th>Transportation expense</th>\n",
              "      <td>7</td>\n",
              "    </tr>\n",
              "    <tr>\n",
              "      <th>Distance from Residence to Work</th>\n",
              "      <td>3</td>\n",
              "    </tr>\n",
              "    <tr>\n",
              "      <th>Service time</th>\n",
              "      <td>3</td>\n",
              "    </tr>\n",
              "    <tr>\n",
              "      <th>Age</th>\n",
              "      <td>3</td>\n",
              "    </tr>\n",
              "    <tr>\n",
              "      <th>Work load Average/day</th>\n",
              "      <td>10</td>\n",
              "    </tr>\n",
              "    <tr>\n",
              "      <th>Hit target</th>\n",
              "      <td>6</td>\n",
              "    </tr>\n",
              "    <tr>\n",
              "      <th>Disciplinary failure</th>\n",
              "      <td>6</td>\n",
              "    </tr>\n",
              "    <tr>\n",
              "      <th>Education</th>\n",
              "      <td>10</td>\n",
              "    </tr>\n",
              "    <tr>\n",
              "      <th>Son</th>\n",
              "      <td>6</td>\n",
              "    </tr>\n",
              "    <tr>\n",
              "      <th>Social drinker</th>\n",
              "      <td>3</td>\n",
              "    </tr>\n",
              "    <tr>\n",
              "      <th>Social smoker</th>\n",
              "      <td>4</td>\n",
              "    </tr>\n",
              "    <tr>\n",
              "      <th>Pet</th>\n",
              "      <td>2</td>\n",
              "    </tr>\n",
              "    <tr>\n",
              "      <th>Weight</th>\n",
              "      <td>1</td>\n",
              "    </tr>\n",
              "    <tr>\n",
              "      <th>Height</th>\n",
              "      <td>14</td>\n",
              "    </tr>\n",
              "    <tr>\n",
              "      <th>Body mass index</th>\n",
              "      <td>31</td>\n",
              "    </tr>\n",
              "    <tr>\n",
              "      <th>Absenteeism time in hours</th>\n",
              "      <td>22</td>\n",
              "    </tr>\n",
              "  </tbody>\n",
              "</table>\n",
              "</div>"
            ],
            "text/plain": [
              "                                  0\n",
              "ID                                0\n",
              "Reason for absence                3\n",
              "Month of absence                  1\n",
              "Day of the week                   0\n",
              "Seasons                           0\n",
              "Transportation expense            7\n",
              "Distance from Residence to Work   3\n",
              "Service time                      3\n",
              "Age                               3\n",
              "Work load Average/day            10\n",
              "Hit target                        6\n",
              "Disciplinary failure              6\n",
              "Education                        10\n",
              "Son                               6\n",
              "Social drinker                    3\n",
              "Social smoker                     4\n",
              "Pet                               2\n",
              "Weight                            1\n",
              "Height                           14\n",
              "Body mass index                  31\n",
              "Absenteeism time in hours        22"
            ]
          },
          "metadata": {
            "tags": []
          },
          "execution_count": 9
        }
      ]
    },
    {
      "cell_type": "code",
      "metadata": {
        "deletable": true,
        "editable": true,
        "id": "gCGOVnPwpU8a",
        "colab_type": "code",
        "colab": {}
      },
      "source": [
        "#Reset Index of missing values\n",
        "missing_val = missing_val.reset_index()\n",
        "\n",
        "#Rename variable\n",
        "missing_val = missing_val.rename(columns = {'index': 'Variables', 0: 'Missing_percentage'})"
      ],
      "execution_count": 0,
      "outputs": []
    },
    {
      "cell_type": "code",
      "metadata": {
        "deletable": true,
        "editable": true,
        "id": "Ed0HSvoXpU8s",
        "colab_type": "code",
        "outputId": "a675f874-3472-49a9-9212-896388031d23",
        "colab": {
          "base_uri": "https://localhost:8080/",
          "height": 693
        }
      },
      "source": [
        "#Calculate missing value percentage\n",
        "missing_val['Missing_percentage'] = (missing_val['Missing_percentage']/len(absent_data))*100\n",
        "\n",
        "#Sort missing values in descending order\n",
        "missing_val = missing_val.sort_values('Missing_percentage', ascending = False).reset_index(drop = True)\n",
        "\n",
        "missing_val"
      ],
      "execution_count": 11,
      "outputs": [
        {
          "output_type": "execute_result",
          "data": {
            "text/html": [
              "<div>\n",
              "<style scoped>\n",
              "    .dataframe tbody tr th:only-of-type {\n",
              "        vertical-align: middle;\n",
              "    }\n",
              "\n",
              "    .dataframe tbody tr th {\n",
              "        vertical-align: top;\n",
              "    }\n",
              "\n",
              "    .dataframe thead th {\n",
              "        text-align: right;\n",
              "    }\n",
              "</style>\n",
              "<table border=\"1\" class=\"dataframe\">\n",
              "  <thead>\n",
              "    <tr style=\"text-align: right;\">\n",
              "      <th></th>\n",
              "      <th>Variables</th>\n",
              "      <th>Missing_percentage</th>\n",
              "    </tr>\n",
              "  </thead>\n",
              "  <tbody>\n",
              "    <tr>\n",
              "      <th>0</th>\n",
              "      <td>Body mass index</td>\n",
              "      <td>4.189189</td>\n",
              "    </tr>\n",
              "    <tr>\n",
              "      <th>1</th>\n",
              "      <td>Absenteeism time in hours</td>\n",
              "      <td>2.972973</td>\n",
              "    </tr>\n",
              "    <tr>\n",
              "      <th>2</th>\n",
              "      <td>Height</td>\n",
              "      <td>1.891892</td>\n",
              "    </tr>\n",
              "    <tr>\n",
              "      <th>3</th>\n",
              "      <td>Work load Average/day</td>\n",
              "      <td>1.351351</td>\n",
              "    </tr>\n",
              "    <tr>\n",
              "      <th>4</th>\n",
              "      <td>Education</td>\n",
              "      <td>1.351351</td>\n",
              "    </tr>\n",
              "    <tr>\n",
              "      <th>5</th>\n",
              "      <td>Transportation expense</td>\n",
              "      <td>0.945946</td>\n",
              "    </tr>\n",
              "    <tr>\n",
              "      <th>6</th>\n",
              "      <td>Son</td>\n",
              "      <td>0.810811</td>\n",
              "    </tr>\n",
              "    <tr>\n",
              "      <th>7</th>\n",
              "      <td>Disciplinary failure</td>\n",
              "      <td>0.810811</td>\n",
              "    </tr>\n",
              "    <tr>\n",
              "      <th>8</th>\n",
              "      <td>Hit target</td>\n",
              "      <td>0.810811</td>\n",
              "    </tr>\n",
              "    <tr>\n",
              "      <th>9</th>\n",
              "      <td>Social smoker</td>\n",
              "      <td>0.540541</td>\n",
              "    </tr>\n",
              "    <tr>\n",
              "      <th>10</th>\n",
              "      <td>Age</td>\n",
              "      <td>0.405405</td>\n",
              "    </tr>\n",
              "    <tr>\n",
              "      <th>11</th>\n",
              "      <td>Reason for absence</td>\n",
              "      <td>0.405405</td>\n",
              "    </tr>\n",
              "    <tr>\n",
              "      <th>12</th>\n",
              "      <td>Service time</td>\n",
              "      <td>0.405405</td>\n",
              "    </tr>\n",
              "    <tr>\n",
              "      <th>13</th>\n",
              "      <td>Distance from Residence to Work</td>\n",
              "      <td>0.405405</td>\n",
              "    </tr>\n",
              "    <tr>\n",
              "      <th>14</th>\n",
              "      <td>Social drinker</td>\n",
              "      <td>0.405405</td>\n",
              "    </tr>\n",
              "    <tr>\n",
              "      <th>15</th>\n",
              "      <td>Pet</td>\n",
              "      <td>0.270270</td>\n",
              "    </tr>\n",
              "    <tr>\n",
              "      <th>16</th>\n",
              "      <td>Weight</td>\n",
              "      <td>0.135135</td>\n",
              "    </tr>\n",
              "    <tr>\n",
              "      <th>17</th>\n",
              "      <td>Month of absence</td>\n",
              "      <td>0.135135</td>\n",
              "    </tr>\n",
              "    <tr>\n",
              "      <th>18</th>\n",
              "      <td>Seasons</td>\n",
              "      <td>0.000000</td>\n",
              "    </tr>\n",
              "    <tr>\n",
              "      <th>19</th>\n",
              "      <td>Day of the week</td>\n",
              "      <td>0.000000</td>\n",
              "    </tr>\n",
              "    <tr>\n",
              "      <th>20</th>\n",
              "      <td>ID</td>\n",
              "      <td>0.000000</td>\n",
              "    </tr>\n",
              "  </tbody>\n",
              "</table>\n",
              "</div>"
            ],
            "text/plain": [
              "                          Variables  Missing_percentage\n",
              "0                   Body mass index            4.189189\n",
              "1         Absenteeism time in hours            2.972973\n",
              "2                            Height            1.891892\n",
              "3            Work load Average/day             1.351351\n",
              "4                         Education            1.351351\n",
              "5            Transportation expense            0.945946\n",
              "6                               Son            0.810811\n",
              "7              Disciplinary failure            0.810811\n",
              "8                        Hit target            0.810811\n",
              "9                     Social smoker            0.540541\n",
              "10                              Age            0.405405\n",
              "11               Reason for absence            0.405405\n",
              "12                     Service time            0.405405\n",
              "13  Distance from Residence to Work            0.405405\n",
              "14                   Social drinker            0.405405\n",
              "15                              Pet            0.270270\n",
              "16                           Weight            0.135135\n",
              "17                 Month of absence            0.135135\n",
              "18                          Seasons            0.000000\n",
              "19                  Day of the week            0.000000\n",
              "20                               ID            0.000000"
            ]
          },
          "metadata": {
            "tags": []
          },
          "execution_count": 11
        }
      ]
    },
    {
      "cell_type": "code",
      "metadata": {
        "deletable": true,
        "editable": true,
        "id": "tkZ-K7OVpU9K",
        "colab_type": "code",
        "colab": {}
      },
      "source": [
        "# Save missing values in a csv file\n",
        "missing_val.to_csv(\"missing_values.csv\", index = False)"
      ],
      "execution_count": 0,
      "outputs": []
    },
    {
      "cell_type": "markdown",
      "metadata": {
        "deletable": true,
        "editable": true,
        "id": "3wY_-ZiZpU9T",
        "colab_type": "text"
      },
      "source": [
        "### Imputing Missing Values"
      ]
    },
    {
      "cell_type": "code",
      "metadata": {
        "deletable": true,
        "editable": true,
        "id": "8opoA9XTpU9X",
        "colab_type": "code",
        "colab": {}
      },
      "source": [
        "# Droping observation in which target variable i.e. \"Absenteeism time in hours\" has missing value\n",
        "absent_data = absent_data.drop(absent_data[absent_data['Absenteeism time in hours'].isnull()].index, axis=0)"
      ],
      "execution_count": 0,
      "outputs": []
    },
    {
      "cell_type": "code",
      "metadata": {
        "deletable": true,
        "editable": true,
        "id": "D-osKq3CpU9h",
        "colab_type": "code",
        "colab": {}
      },
      "source": [
        "# Checking for \"Body mass index\" column\n",
        "# Actual value = 28.0\n",
        "# Mean = 26.704941860465116\n",
        "# Median = 25.0\n",
        "# KNN = 26.821846245893294"
      ],
      "execution_count": 0,
      "outputs": []
    },
    {
      "cell_type": "code",
      "metadata": {
        "deletable": true,
        "editable": true,
        "id": "UTajfjo7pU9v",
        "colab_type": "code",
        "outputId": "0c325824-5bbc-4d61-d18d-73d8550bc108",
        "colab": {
          "base_uri": "https://localhost:8080/",
          "height": 35
        }
      },
      "source": [
        "#Check data\n",
        "absent_data['Body mass index'].iloc[60]"
      ],
      "execution_count": 15,
      "outputs": [
        {
          "output_type": "execute_result",
          "data": {
            "text/plain": [
              "28.0"
            ]
          },
          "metadata": {
            "tags": []
          },
          "execution_count": 15
        }
      ]
    },
    {
      "cell_type": "code",
      "metadata": {
        "deletable": true,
        "editable": true,
        "id": "aVV-bKT_pU-C",
        "colab_type": "code",
        "outputId": "ce1997ea-c2a8-43e9-f24b-519cab716d4b",
        "colab": {
          "base_uri": "https://localhost:8080/",
          "height": 124
        }
      },
      "source": [
        "#create missing value\n",
        "absent_data['Body mass index'].iloc[60] = np.nan"
      ],
      "execution_count": 16,
      "outputs": [
        {
          "output_type": "stream",
          "text": [
            "/usr/local/lib/python3.6/dist-packages/pandas/core/indexing.py:190: SettingWithCopyWarning: \n",
            "A value is trying to be set on a copy of a slice from a DataFrame\n",
            "\n",
            "See the caveats in the documentation: http://pandas.pydata.org/pandas-docs/stable/indexing.html#indexing-view-versus-copy\n",
            "  self._setitem_with_indexer(indexer, value)\n"
          ],
          "name": "stderr"
        }
      ]
    },
    {
      "cell_type": "code",
      "metadata": {
        "id": "MBR9tG1FmNJf",
        "colab_type": "code",
        "outputId": "1274be78-0d41-481f-e77f-540fade278e5",
        "colab": {
          "base_uri": "https://localhost:8080/",
          "height": 35
        }
      },
      "source": [
        "absent_data['Body mass index'].iloc[60]"
      ],
      "execution_count": 17,
      "outputs": [
        {
          "output_type": "execute_result",
          "data": {
            "text/plain": [
              "nan"
            ]
          },
          "metadata": {
            "tags": []
          },
          "execution_count": 17
        }
      ]
    },
    {
      "cell_type": "code",
      "metadata": {
        "deletable": true,
        "editable": true,
        "id": "Lk_AuRjGpU-Q",
        "colab_type": "code",
        "outputId": "0461b0e4-12dd-4a24-9f5f-ebadbc17c63b",
        "colab": {
          "base_uri": "https://localhost:8080/",
          "height": 35
        }
      },
      "source": [
        "#Impute with mean\n",
        "absent_data['Body mass index'] = absent_data['Body mass index'].fillna(absent_data['Body mass index'].mean())\n",
        "absent_data['Body mass index'].iloc[60]"
      ],
      "execution_count": 18,
      "outputs": [
        {
          "output_type": "execute_result",
          "data": {
            "text/plain": [
              "26.704941860465116"
            ]
          },
          "metadata": {
            "tags": []
          },
          "execution_count": 18
        }
      ]
    },
    {
      "cell_type": "code",
      "metadata": {
        "deletable": true,
        "editable": true,
        "id": "T8GLgVfxpU-a",
        "colab_type": "code",
        "outputId": "28747926-821f-4385-e25f-e8cb9101751f",
        "colab": {
          "base_uri": "https://localhost:8080/",
          "height": 124
        }
      },
      "source": [
        "#create missing value\n",
        "absent_data['Body mass index'].iloc[60] = np.nan"
      ],
      "execution_count": 19,
      "outputs": [
        {
          "output_type": "stream",
          "text": [
            "/usr/local/lib/python3.6/dist-packages/pandas/core/indexing.py:190: SettingWithCopyWarning: \n",
            "A value is trying to be set on a copy of a slice from a DataFrame\n",
            "\n",
            "See the caveats in the documentation: http://pandas.pydata.org/pandas-docs/stable/indexing.html#indexing-view-versus-copy\n",
            "  self._setitem_with_indexer(indexer, value)\n"
          ],
          "name": "stderr"
        }
      ]
    },
    {
      "cell_type": "code",
      "metadata": {
        "deletable": true,
        "editable": true,
        "id": "qJbYF5anpU-p",
        "colab_type": "code",
        "outputId": "ff9d4961-2762-4b69-ee1f-69f31c8465ee",
        "colab": {
          "base_uri": "https://localhost:8080/",
          "height": 35
        }
      },
      "source": [
        "#Impute with median\n",
        "absent_data['Body mass index'] = absent_data['Body mass index'].fillna(absent_data['Body mass index'].median())\n",
        "absent_data['Body mass index'].iloc[60]"
      ],
      "execution_count": 20,
      "outputs": [
        {
          "output_type": "execute_result",
          "data": {
            "text/plain": [
              "25.0"
            ]
          },
          "metadata": {
            "tags": []
          },
          "execution_count": 20
        }
      ]
    },
    {
      "cell_type": "code",
      "metadata": {
        "deletable": true,
        "editable": true,
        "id": "21F-NKg-pU-0",
        "colab_type": "code",
        "outputId": "16815a15-37c6-4acf-cf38-8344f5d0a417",
        "colab": {
          "base_uri": "https://localhost:8080/",
          "height": 124
        }
      },
      "source": [
        "#create missing value\n",
        "absent_data['Body mass index'].iloc[60] = np.nan"
      ],
      "execution_count": 21,
      "outputs": [
        {
          "output_type": "stream",
          "text": [
            "/usr/local/lib/python3.6/dist-packages/pandas/core/indexing.py:190: SettingWithCopyWarning: \n",
            "A value is trying to be set on a copy of a slice from a DataFrame\n",
            "\n",
            "See the caveats in the documentation: http://pandas.pydata.org/pandas-docs/stable/indexing.html#indexing-view-versus-copy\n",
            "  self._setitem_with_indexer(indexer, value)\n"
          ],
          "name": "stderr"
        }
      ]
    },
    {
      "cell_type": "code",
      "metadata": {
        "deletable": true,
        "editable": true,
        "id": "DuLle9OfpU_E",
        "colab_type": "code",
        "outputId": "61d8f482-3c90-4fdb-a58d-b8f9a60bc6ca",
        "colab": {
          "base_uri": "https://localhost:8080/",
          "height": 156
        }
      },
      "source": [
        "#Apply KNN imputation algorithm\n",
        "absent_data = pd.DataFrame(KNN(k = 3).fit_transform(absent_data), columns = absent_data.columns)"
      ],
      "execution_count": 22,
      "outputs": [
        {
          "output_type": "stream",
          "text": [
            "Imputing row 1/718 with 0 missing, elapsed time: 0.095\n",
            "Imputing row 101/718 with 0 missing, elapsed time: 0.096\n",
            "Imputing row 201/718 with 0 missing, elapsed time: 0.097\n",
            "Imputing row 301/718 with 0 missing, elapsed time: 0.098\n",
            "Imputing row 401/718 with 0 missing, elapsed time: 0.098\n",
            "Imputing row 501/718 with 1 missing, elapsed time: 0.099\n",
            "Imputing row 601/718 with 0 missing, elapsed time: 0.099\n",
            "Imputing row 701/718 with 0 missing, elapsed time: 0.100\n"
          ],
          "name": "stdout"
        }
      ]
    },
    {
      "cell_type": "code",
      "metadata": {
        "deletable": true,
        "editable": true,
        "id": "n27jN2MHpU_Q",
        "colab_type": "code",
        "outputId": "3ff69719-af64-4a06-baa1-261fca77b15b",
        "colab": {
          "base_uri": "https://localhost:8080/",
          "height": 35
        }
      },
      "source": [
        "absent_data['Body mass index'].iloc[60]"
      ],
      "execution_count": 23,
      "outputs": [
        {
          "output_type": "execute_result",
          "data": {
            "text/plain": [
              "26.821846245893294"
            ]
          },
          "metadata": {
            "tags": []
          },
          "execution_count": 23
        }
      ]
    },
    {
      "cell_type": "code",
      "metadata": {
        "deletable": true,
        "editable": true,
        "id": "hHEoD_9dpU_g",
        "colab_type": "code",
        "outputId": "cc09c823-0348-451f-f5c4-20d8c5885a00",
        "colab": {
          "base_uri": "https://localhost:8080/",
          "height": 399
        }
      },
      "source": [
        "#Check if all the missing values are imputed\n",
        "absent_data.isnull().sum()"
      ],
      "execution_count": 24,
      "outputs": [
        {
          "output_type": "execute_result",
          "data": {
            "text/plain": [
              "ID                                 0\n",
              "Reason for absence                 0\n",
              "Month of absence                   0\n",
              "Day of the week                    0\n",
              "Seasons                            0\n",
              "Transportation expense             0\n",
              "Distance from Residence to Work    0\n",
              "Service time                       0\n",
              "Age                                0\n",
              "Work load Average/day              0\n",
              "Hit target                         0\n",
              "Disciplinary failure               0\n",
              "Education                          0\n",
              "Son                                0\n",
              "Social drinker                     0\n",
              "Social smoker                      0\n",
              "Pet                                0\n",
              "Weight                             0\n",
              "Height                             0\n",
              "Body mass index                    0\n",
              "Absenteeism time in hours          0\n",
              "dtype: int64"
            ]
          },
          "metadata": {
            "tags": []
          },
          "execution_count": 24
        }
      ]
    },
    {
      "cell_type": "markdown",
      "metadata": {
        "deletable": true,
        "editable": true,
        "id": "oWJE_V72pU_p",
        "colab_type": "text"
      },
      "source": [
        "### Outlier Analysis"
      ]
    },
    {
      "cell_type": "code",
      "metadata": {
        "deletable": true,
        "editable": true,
        "id": "VBJclZzLpU_r",
        "colab_type": "code",
        "colab": {}
      },
      "source": [
        "# define a function for ploting BoxPlot graph\n",
        "\n",
        "def create_boxplot(data, cName):\n",
        "  plt.boxplot(data[cName])\n",
        "  plt.xlabel(cName)\n",
        "  plt.title(\"BoxPlot : \" + cName)\n",
        "  plt.ylabel('Values')\n",
        "  plt.show()"
      ],
      "execution_count": 0,
      "outputs": []
    },
    {
      "cell_type": "code",
      "metadata": {
        "id": "86ifUj8AoSXH",
        "colab_type": "code",
        "outputId": "bcdf62dd-594e-4655-eff4-604fc2088dd0",
        "colab": {
          "base_uri": "https://localhost:8080/",
          "height": 1000
        }
      },
      "source": [
        "# BloxPlot for all continuous variables\n",
        "for i in cont_vars:\n",
        "  create_boxplot(absent_data, str(i))\n",
        "  print(\"=\" * 77)\n"
      ],
      "execution_count": 26,
      "outputs": [
        {
          "output_type": "display_data",
          "data": {
            "image/png": "[encoded data removed]",
            "text/plain": [
              "<Figure size 432x288 with 1 Axes>"
            ]
          },
          "metadata": {
            "tags": []
          }
        },
        {
          "output_type": "stream",
          "text": [
            "=============================================================================\n"
          ],
          "name": "stdout"
        },
        {
          "output_type": "display_data",
          "data": {
            "image/png": "[encoded data removed]",
            "text/plain": [
              "<Figure size 432x288 with 1 Axes>"
            ]
          },
          "metadata": {
            "tags": []
          }
        },
        {
          "output_type": "stream",
          "text": [
            "=============================================================================\n"
          ],
          "name": "stdout"
        },
        {
          "output_type": "display_data",
          "data": {
            "image/png": "[encoded data removed]",
            "text/plain": [
              "<Figure size 432x288 with 1 Axes>"
            ]
          },
          "metadata": {
            "tags": []
          }
        },
        {
          "output_type": "stream",
          "text": [
            "=============================================================================\n"
          ],
          "name": "stdout"
        },
        {
          "output_type": "display_data",
          "data": {
            "image/png": "[encoded data removed]",
            "text/plain": [
              "<Figure size 432x288 with 1 Axes>"
            ]
          },
          "metadata": {
            "tags": []
          }
        },
        {
          "output_type": "stream",
          "text": [
            "=============================================================================\n"
          ],
          "name": "stdout"
        },
        {
          "output_type": "display_data",
          "data": {
            "image/png": "[encoded data removed]",
            "text/plain": [
              "<Figure size 432x288 with 1 Axes>"
            ]
          },
          "metadata": {
            "tags": []
          }
        },
        {
          "output_type": "stream",
          "text": [
            "=============================================================================\n"
          ],
          "name": "stdout"
        },
        {
          "output_type": "display_data",
          "data": {
            "image/png": "[encoded data removed]",
            "text/plain": [
              "<Figure size 432x288 with 1 Axes>"
            ]
          },
          "metadata": {
            "tags": []
          }
        },
        {
          "output_type": "stream",
          "text": [
            "=============================================================================\n"
          ],
          "name": "stdout"
        },
        {
          "output_type": "display_data",
          "data": {
            "image/png": "[encoded data removed]",
            "text/plain": [
              "<Figure size 432x288 with 1 Axes>"
            ]
          },
          "metadata": {
            "tags": []
          }
        },
        {
          "output_type": "stream",
          "text": [
            "=============================================================================\n"
          ],
          "name": "stdout"
        },
        {
          "output_type": "display_data",
          "data": {
            "image/png": "[encoded data removed]",
            "text/plain": [
              "<Figure size 432x288 with 1 Axes>"
            ]
          },
          "metadata": {
            "tags": []
          }
        },
        {
          "output_type": "stream",
          "text": [
            "=============================================================================\n"
          ],
          "name": "stdout"
        },
        {
          "output_type": "display_data",
          "data": {
            "image/png": "[encoded data removed]",
            "text/plain": [
              "<Figure size 432x288 with 1 Axes>"
            ]
          },
          "metadata": {
            "tags": []
          }
        },
        {
          "output_type": "stream",
          "text": [
            "=============================================================================\n"
          ],
          "name": "stdout"
        },
        {
          "output_type": "display_data",
          "data": {
            "image/png": "[encoded data removed]",
            "text/plain": [
              "<Figure size 432x288 with 1 Axes>"
            ]
          },
          "metadata": {
            "tags": []
          }
        },
        {
          "output_type": "stream",
          "text": [
            "=============================================================================\n"
          ],
          "name": "stdout"
        }
      ]
    },
    {
      "cell_type": "markdown",
      "metadata": {
        "deletable": true,
        "editable": true,
        "id": "-OOq65nSpVBZ",
        "colab_type": "text"
      },
      "source": [
        "The above boxplots show that there are **no outliers** in: \n",
        "'Distance from Residence to Work', \n",
        "'Weight' *and* \n",
        "'Body mass index'"
      ]
    },
    {
      "cell_type": "code",
      "metadata": {
        "deletable": true,
        "editable": true,
        "id": "_0zxdo9WpVBe",
        "colab_type": "code",
        "colab": {}
      },
      "source": [
        "#Storing no outlier variable\n",
        "no_outliers = ['Distance from Residence to Work', 'Weight', 'Body mass index']"
      ],
      "execution_count": 0,
      "outputs": []
    },
    {
      "cell_type": "code",
      "metadata": {
        "deletable": true,
        "editable": true,
        "id": "Ps_KpJerpVBm",
        "colab_type": "code",
        "outputId": "7c16a7e8-61b3-4b50-a658-06b3759a2280",
        "colab": {
          "base_uri": "https://localhost:8080/",
          "height": 156
        }
      },
      "source": [
        "# Remove outliers from all continuous variables\n",
        "for i in cont_vars:\n",
        "    if i in no_outliers:\n",
        "        continue\n",
        "        \n",
        "    # Getting 75 and 25 percentile \n",
        "    q75, q25 = np.percentile(absent_data[i], [75,25])\n",
        "    \n",
        "    #Calculating Interquartile range\n",
        "    iqr = q75 - q25\n",
        "    \n",
        "    # Calculating upper and lower fence\n",
        "    min = q25 - (iqr*1.5)\n",
        "    max = q75 + (iqr*1.5)\n",
        "    \n",
        "    #Replacing all the outliers value with NA\n",
        "    absent_data.loc[absent_data[i]< min,i] = np.nan\n",
        "    absent_data.loc[absent_data[i]> max,i] = np.nan\n",
        "    \n",
        "\n",
        "# Impute missing values created with KNN\n",
        "absent_data = pd.DataFrame(KNN(k = 3).fit_transform(absent_data), columns = absent_data.columns)\n"
      ],
      "execution_count": 28,
      "outputs": [
        {
          "output_type": "stream",
          "text": [
            "Imputing row 1/718 with 0 missing, elapsed time: 0.094\n",
            "Imputing row 101/718 with 0 missing, elapsed time: 0.095\n",
            "Imputing row 201/718 with 1 missing, elapsed time: 0.096\n",
            "Imputing row 301/718 with 0 missing, elapsed time: 0.097\n",
            "Imputing row 401/718 with 0 missing, elapsed time: 0.098\n",
            "Imputing row 501/718 with 0 missing, elapsed time: 0.099\n",
            "Imputing row 601/718 with 2 missing, elapsed time: 0.100\n",
            "Imputing row 701/718 with 0 missing, elapsed time: 0.101\n"
          ],
          "name": "stdout"
        }
      ]
    },
    {
      "cell_type": "code",
      "metadata": {
        "deletable": true,
        "editable": true,
        "id": "PRr2UvqbpVB2",
        "colab_type": "code",
        "outputId": "09881692-2f4d-4eae-da0f-0c034fe25111",
        "colab": {
          "base_uri": "https://localhost:8080/",
          "height": 399
        }
      },
      "source": [
        "# Cross Checking for missing values\n",
        "absent_data.isnull().sum()"
      ],
      "execution_count": 29,
      "outputs": [
        {
          "output_type": "execute_result",
          "data": {
            "text/plain": [
              "ID                                 0\n",
              "Reason for absence                 0\n",
              "Month of absence                   0\n",
              "Day of the week                    0\n",
              "Seasons                            0\n",
              "Transportation expense             0\n",
              "Distance from Residence to Work    0\n",
              "Service time                       0\n",
              "Age                                0\n",
              "Work load Average/day              0\n",
              "Hit target                         0\n",
              "Disciplinary failure               0\n",
              "Education                          0\n",
              "Son                                0\n",
              "Social drinker                     0\n",
              "Social smoker                      0\n",
              "Pet                                0\n",
              "Weight                             0\n",
              "Height                             0\n",
              "Body mass index                    0\n",
              "Absenteeism time in hours          0\n",
              "dtype: int64"
            ]
          },
          "metadata": {
            "tags": []
          },
          "execution_count": 29
        }
      ]
    },
    {
      "cell_type": "markdown",
      "metadata": {
        "deletable": true,
        "editable": true,
        "id": "infnJFuTpVCA",
        "colab_type": "text"
      },
      "source": [
        "### Feature Selection"
      ]
    },
    {
      "cell_type": "markdown",
      "metadata": {
        "id": "pH8L3iulx-Xu",
        "colab_type": "text"
      },
      "source": [
        "#### Correlation plot for continuous variables\n"
      ]
    },
    {
      "cell_type": "code",
      "metadata": {
        "id": "fBuUpnEWu4if",
        "colab_type": "code",
        "outputId": "d477fd40-5c33-4a79-aa0f-83be811626d5",
        "colab": {
          "base_uri": "https://localhost:8080/",
          "height": 741
        }
      },
      "source": [
        "#Correlation plot for continuous variables\n",
        "absent_data_corr = absent_data[cont_vars]\n",
        "\n",
        "#Correlation matrix\n",
        "corr = absent_data_corr.corr()\n",
        "\n",
        "#Set the width and hieght of the plot\n",
        "plt.figure(figsize=(10, 10))\n",
        "\n",
        "#Plot using seaborn library\n",
        "plt.title('Correlation Plot')\n",
        "sns.heatmap(corr, linewidths=0.4, vmax=1.0, square=True, cmap=\"cubehelix\", linecolor='k', annot=True)\n",
        "plt.plot()\n"
      ],
      "execution_count": 30,
      "outputs": [
        {
          "output_type": "execute_result",
          "data": {
            "text/plain": [
              "[]"
            ]
          },
          "metadata": {
            "tags": []
          },
          "execution_count": 30
        },
        {
          "output_type": "display_data",
          "data": {
            "image/png": "[encoded data removed]",
            "text/plain": [
              "<Figure size 720x720 with 2 Axes>"
            ]
          },
          "metadata": {
            "tags": []
          }
        }
      ]
    },
    {
      "cell_type": "markdown",
      "metadata": {
        "id": "sZTtzKo-x384",
        "colab_type": "text"
      },
      "source": [
        "#### ANOVA Test for categorical variables\n"
      ]
    },
    {
      "cell_type": "code",
      "metadata": {
        "deletable": true,
        "editable": true,
        "id": "hC0-f9hnpVCM",
        "colab_type": "code",
        "outputId": "902773d1-ad9b-4af3-9eeb-c8da405bd397",
        "colab": {
          "base_uri": "https://localhost:8080/",
          "height": 208
        }
      },
      "source": [
        "#ANOVA Test for categorical variables\n",
        "for i in cat_vars:\n",
        "    f, p = stats.f_oneway(absent_data[i], absent_data[\"Absenteeism time in hours\"])\n",
        "    print(\"P value for \" + str(i) + \" = \" + str(p))"
      ],
      "execution_count": 31,
      "outputs": [
        {
          "output_type": "stream",
          "text": [
            "P value for ID = 8.762734377787565e-167\n",
            "P value for Reason for absence = 1.0354352376410707e-276\n",
            "P value for Month of absence = 3.459399600862653e-25\n",
            "P value for Day of the week = 0.0008077239229031345\n",
            "P value for Seasons = 3.0515782325937768e-40\n",
            "P value for Disciplinary failure = 1.267243302334549e-185\n",
            "P value for Education = 8.36466800112475e-105\n",
            "P value for Social drinker = 1.3091608727705665e-150\n",
            "P value for Social smoker = 9.469186658361471e-184\n",
            "P value for Pet = 5.348130726125504e-127\n",
            "P value for Son = 9.463924041308898e-116\n"
          ],
          "name": "stdout"
        }
      ]
    },
    {
      "cell_type": "code",
      "metadata": {
        "deletable": true,
        "editable": true,
        "id": "1XvBrZG5pVCi",
        "colab_type": "code",
        "colab": {}
      },
      "source": [
        "# Droping the variables which has redundant information\n",
        "absent_data = absent_data.drop(['Weight'], axis = 1)"
      ],
      "execution_count": 0,
      "outputs": []
    },
    {
      "cell_type": "code",
      "metadata": {
        "deletable": true,
        "editable": true,
        "id": "CE5EEHsvpVCz",
        "colab_type": "code",
        "outputId": "5f9a65f6-6d7d-41e4-e8c0-e80834c23380",
        "colab": {
          "base_uri": "https://localhost:8080/",
          "height": 35
        }
      },
      "source": [
        "absent_data.shape"
      ],
      "execution_count": 33,
      "outputs": [
        {
          "output_type": "execute_result",
          "data": {
            "text/plain": [
              "(718, 20)"
            ]
          },
          "metadata": {
            "tags": []
          },
          "execution_count": 33
        }
      ]
    },
    {
      "cell_type": "code",
      "metadata": {
        "deletable": true,
        "editable": true,
        "id": "gfZ4xsyUpVC8",
        "colab_type": "code",
        "colab": {}
      },
      "source": [
        "# Updating the Continuous Variables and Categorical Variables after droping some variables\n",
        "cont_vars.remove('Weight')"
      ],
      "execution_count": 0,
      "outputs": []
    },
    {
      "cell_type": "code",
      "metadata": {
        "id": "VSEL3MP8zX2P",
        "colab_type": "code",
        "outputId": "71cd7294-6617-4189-a0ae-67196235d49e",
        "colab": {
          "base_uri": "https://localhost:8080/",
          "height": 173
        }
      },
      "source": [
        "cont_vars"
      ],
      "execution_count": 35,
      "outputs": [
        {
          "output_type": "execute_result",
          "data": {
            "text/plain": [
              "['Distance from Residence to Work',\n",
              " 'Service time',\n",
              " 'Age',\n",
              " 'Work load Average/day ',\n",
              " 'Transportation expense',\n",
              " 'Hit target',\n",
              " 'Height',\n",
              " 'Body mass index',\n",
              " 'Absenteeism time in hours']"
            ]
          },
          "metadata": {
            "tags": []
          },
          "execution_count": 35
        }
      ]
    },
    {
      "cell_type": "code",
      "metadata": {
        "deletable": true,
        "editable": true,
        "id": "ht9iPyucpVDY",
        "colab_type": "code",
        "colab": {}
      },
      "source": [
        "# Back up original data\n",
        "orig_absent_data = absent_data.copy()"
      ],
      "execution_count": 0,
      "outputs": []
    },
    {
      "cell_type": "code",
      "metadata": {
        "id": "WmZgIfIdxvSi",
        "colab_type": "code",
        "colab": {}
      },
      "source": [
        "orig_absent_data.to_csv('data_2011.csv')"
      ],
      "execution_count": 0,
      "outputs": []
    },
    {
      "cell_type": "markdown",
      "metadata": {
        "deletable": true,
        "editable": true,
        "id": "6VBkCAyCpVDj",
        "colab_type": "text"
      },
      "source": [
        "### Feature Scaling"
      ]
    },
    {
      "cell_type": "code",
      "metadata": {
        "deletable": true,
        "editable": true,
        "id": "LUEo8H1PpVDn",
        "colab_type": "code",
        "outputId": "f464d39b-4422-4962-b71e-66c83cbebe43",
        "colab": {
          "base_uri": "https://localhost:8080/",
          "height": 1000
        }
      },
      "source": [
        "# Checking for normally distributed variable in data\n",
        "for i in cont_vars:\n",
        "    if i == 'Absenteeism time in hours':\n",
        "        continue\n",
        "        \n",
        "    sns.distplot(absent_data[i],bins = 'auto')\n",
        "    plt.title(\"Distribution for  \" + str(i))\n",
        "    plt.ylabel(\"Density\")\n",
        "    plt.show()"
      ],
      "execution_count": 38,
      "outputs": [
        {
          "output_type": "display_data",
          "data": {
            "image/png": "[encoded data removed]",
            "text/plain": [
              "<Figure size 432x288 with 1 Axes>"
            ]
          },
          "metadata": {
            "tags": []
          }
        },
        {
          "output_type": "display_data",
          "data": {
            "image/png": "[encoded data removed]",
            "text/plain": [
              "<Figure size 432x288 with 1 Axes>"
            ]
          },
          "metadata": {
            "tags": []
          }
        },
        {
          "output_type": "display_data",
          "data": {
            "image/png": "[encoded data removed]",
            "text/plain": [
              "<Figure size 432x288 with 1 Axes>"
            ]
          },
          "metadata": {
            "tags": []
          }
        },
        {
          "output_type": "display_data",
          "data": {
            "image/png": "[encoded data removed]",
            "text/plain": [
              "<Figure size 432x288 with 1 Axes>"
            ]
          },
          "metadata": {
            "tags": []
          }
        },
        {
          "output_type": "display_data",
          "data": {
            "image/png": "[encoded data removed]",
            "text/plain": [
              "<Figure size 432x288 with 1 Axes>"
            ]
          },
          "metadata": {
            "tags": []
          }
        },
        {
          "output_type": "display_data",
          "data": {
            "image/png": "[encoded data removed]",
            "text/plain": [
              "<Figure size 432x288 with 1 Axes>"
            ]
          },
          "metadata": {
            "tags": []
          }
        },
        {
          "output_type": "display_data",
          "data": {
            "image/png": "[encoded data removed]",
            "text/plain": [
              "<Figure size 432x288 with 1 Axes>"
            ]
          },
          "metadata": {
            "tags": []
          }
        },
        {
          "output_type": "display_data",
          "data": {
            "image/png": "[encoded data removed]",
            "text/plain": [
              "<Figure size 432x288 with 1 Axes>"
            ]
          },
          "metadata": {
            "tags": []
          }
        }
      ]
    },
    {
      "cell_type": "code",
      "metadata": {
        "deletable": true,
        "editable": true,
        "id": "I4UyyTvWpVDy",
        "colab_type": "code",
        "colab": {}
      },
      "source": [
        "#Normalization\n",
        "\n",
        "for i in cont_vars:\n",
        "    if i == 'Absenteeism time in hours':\n",
        "        continue\n",
        "        \n",
        "    absent_data[i] = (absent_data[i] - absent_data[i].min())/(absent_data[i].max()-absent_data[i].min())"
      ],
      "execution_count": 0,
      "outputs": []
    },
    {
      "cell_type": "code",
      "metadata": {
        "id": "rRNWoWRrV6__",
        "colab_type": "code",
        "outputId": "a481a7ad-b544-42d9-b6f2-b69a9359c0a7",
        "colab": {
          "base_uri": "https://localhost:8080/",
          "height": 1000
        }
      },
      "source": [
        "# Checking the distplots of variables after applying normalization.\n",
        "for i in cont_vars:\n",
        "    if i == 'Absenteeism time in hours':\n",
        "        continue\n",
        "        \n",
        "    sns.distplot(absent_data[i],bins = 'auto')\n",
        "    plt.title(\"Distribution for  \" + str(i))\n",
        "    plt.ylabel(\"Density\")\n",
        "    plt.show()"
      ],
      "execution_count": 40,
      "outputs": [
        {
          "output_type": "display_data",
          "data": {
            "image/png": "[encoded data removed]",
            "text/plain": [
              "<Figure size 432x288 with 1 Axes>"
            ]
          },
          "metadata": {
            "tags": []
          }
        },
        {
          "output_type": "display_data",
          "data": {
            "image/png": "[encoded data removed]",
            "text/plain": [
              "<Figure size 432x288 with 1 Axes>"
            ]
          },
          "metadata": {
            "tags": []
          }
        },
        {
          "output_type": "display_data",
          "data": {
            "image/png": "[encoded data removed]",
            "text/plain": [
              "<Figure size 432x288 with 1 Axes>"
            ]
          },
          "metadata": {
            "tags": []
          }
        },
        {
          "output_type": "display_data",
          "data": {
            "image/png": "[encoded data removed]",
            "text/plain": [
              "<Figure size 432x288 with 1 Axes>"
            ]
          },
          "metadata": {
            "tags": []
          }
        },
        {
          "output_type": "display_data",
          "data": {
            "image/png": "[encoded data removed]",
            "text/plain": [
              "<Figure size 432x288 with 1 Axes>"
            ]
          },
          "metadata": {
            "tags": []
          }
        },
        {
          "output_type": "display_data",
          "data": {
            "image/png": "[encoded data removed]",
            "text/plain": [
              "<Figure size 432x288 with 1 Axes>"
            ]
          },
          "metadata": {
            "tags": []
          }
        },
        {
          "output_type": "display_data",
          "data": {
            "image/png": "[encoded data removed]",
            "text/plain": [
              "<Figure size 432x288 with 1 Axes>"
            ]
          },
          "metadata": {
            "tags": []
          }
        },
        {
          "output_type": "display_data",
          "data": {
            "image/png": "[encoded data removed]",
            "text/plain": [
              "<Figure size 432x288 with 1 Axes>"
            ]
          },
          "metadata": {
            "tags": []
          }
        }
      ]
    },
    {
      "cell_type": "code",
      "metadata": {
        "deletable": true,
        "editable": true,
        "id": "pnBPxMJZpVD8",
        "colab_type": "code",
        "outputId": "f25d870e-5e4c-4a92-dd29-61aaefb1fb8b",
        "colab": {
          "base_uri": "https://localhost:8080/",
          "height": 274
        }
      },
      "source": [
        "# Copying dataframe\n",
        "df1 = absent_data.copy()\n",
        "\n",
        "#Checking data\n",
        "absent_data.head()"
      ],
      "execution_count": 41,
      "outputs": [
        {
          "output_type": "execute_result",
          "data": {
            "text/html": [
              "<div>\n",
              "<style scoped>\n",
              "    .dataframe tbody tr th:only-of-type {\n",
              "        vertical-align: middle;\n",
              "    }\n",
              "\n",
              "    .dataframe tbody tr th {\n",
              "        vertical-align: top;\n",
              "    }\n",
              "\n",
              "    .dataframe thead th {\n",
              "        text-align: right;\n",
              "    }\n",
              "</style>\n",
              "<table border=\"1\" class=\"dataframe\">\n",
              "  <thead>\n",
              "    <tr style=\"text-align: right;\">\n",
              "      <th></th>\n",
              "      <th>ID</th>\n",
              "      <th>Reason for absence</th>\n",
              "      <th>Month of absence</th>\n",
              "      <th>Day of the week</th>\n",
              "      <th>Seasons</th>\n",
              "      <th>Transportation expense</th>\n",
              "      <th>Distance from Residence to Work</th>\n",
              "      <th>Service time</th>\n",
              "      <th>Age</th>\n",
              "      <th>Work load Average/day</th>\n",
              "      <th>Hit target</th>\n",
              "      <th>Disciplinary failure</th>\n",
              "      <th>Education</th>\n",
              "      <th>Son</th>\n",
              "      <th>Social drinker</th>\n",
              "      <th>Social smoker</th>\n",
              "      <th>Pet</th>\n",
              "      <th>Height</th>\n",
              "      <th>Body mass index</th>\n",
              "      <th>Absenteeism time in hours</th>\n",
              "    </tr>\n",
              "  </thead>\n",
              "  <tbody>\n",
              "    <tr>\n",
              "      <th>0</th>\n",
              "      <td>11.0</td>\n",
              "      <td>26.0</td>\n",
              "      <td>7.0</td>\n",
              "      <td>3.0</td>\n",
              "      <td>1.0</td>\n",
              "      <td>0.657692</td>\n",
              "      <td>0.659574</td>\n",
              "      <td>0.521739</td>\n",
              "      <td>0.230769</td>\n",
              "      <td>0.244925</td>\n",
              "      <td>0.769231</td>\n",
              "      <td>0.0</td>\n",
              "      <td>1.0</td>\n",
              "      <td>2.0</td>\n",
              "      <td>1.0</td>\n",
              "      <td>0.0</td>\n",
              "      <td>1.0</td>\n",
              "      <td>0.700000</td>\n",
              "      <td>0.578947</td>\n",
              "      <td>4.0</td>\n",
              "    </tr>\n",
              "    <tr>\n",
              "      <th>1</th>\n",
              "      <td>36.0</td>\n",
              "      <td>0.0</td>\n",
              "      <td>7.0</td>\n",
              "      <td>3.0</td>\n",
              "      <td>1.0</td>\n",
              "      <td>0.000000</td>\n",
              "      <td>0.170213</td>\n",
              "      <td>0.739130</td>\n",
              "      <td>0.884615</td>\n",
              "      <td>0.244925</td>\n",
              "      <td>0.769231</td>\n",
              "      <td>1.0</td>\n",
              "      <td>1.0</td>\n",
              "      <td>1.0</td>\n",
              "      <td>1.0</td>\n",
              "      <td>0.0</td>\n",
              "      <td>0.0</td>\n",
              "      <td>0.500001</td>\n",
              "      <td>0.631579</td>\n",
              "      <td>0.0</td>\n",
              "    </tr>\n",
              "    <tr>\n",
              "      <th>2</th>\n",
              "      <td>3.0</td>\n",
              "      <td>23.0</td>\n",
              "      <td>7.0</td>\n",
              "      <td>4.0</td>\n",
              "      <td>1.0</td>\n",
              "      <td>0.234615</td>\n",
              "      <td>0.978723</td>\n",
              "      <td>0.739130</td>\n",
              "      <td>0.423077</td>\n",
              "      <td>0.244925</td>\n",
              "      <td>0.769231</td>\n",
              "      <td>0.0</td>\n",
              "      <td>1.0</td>\n",
              "      <td>0.0</td>\n",
              "      <td>1.0</td>\n",
              "      <td>0.0</td>\n",
              "      <td>0.0</td>\n",
              "      <td>0.500000</td>\n",
              "      <td>0.631579</td>\n",
              "      <td>2.0</td>\n",
              "    </tr>\n",
              "    <tr>\n",
              "      <th>3</th>\n",
              "      <td>7.0</td>\n",
              "      <td>7.0</td>\n",
              "      <td>7.0</td>\n",
              "      <td>5.0</td>\n",
              "      <td>1.0</td>\n",
              "      <td>0.619231</td>\n",
              "      <td>0.000000</td>\n",
              "      <td>0.565217</td>\n",
              "      <td>0.461538</td>\n",
              "      <td>0.244925</td>\n",
              "      <td>0.769231</td>\n",
              "      <td>0.0</td>\n",
              "      <td>1.0</td>\n",
              "      <td>2.0</td>\n",
              "      <td>1.0</td>\n",
              "      <td>1.0</td>\n",
              "      <td>0.0</td>\n",
              "      <td>0.300000</td>\n",
              "      <td>0.263158</td>\n",
              "      <td>4.0</td>\n",
              "    </tr>\n",
              "    <tr>\n",
              "      <th>4</th>\n",
              "      <td>11.0</td>\n",
              "      <td>23.0</td>\n",
              "      <td>7.0</td>\n",
              "      <td>5.0</td>\n",
              "      <td>1.0</td>\n",
              "      <td>0.657692</td>\n",
              "      <td>0.659574</td>\n",
              "      <td>0.521739</td>\n",
              "      <td>0.230769</td>\n",
              "      <td>0.244925</td>\n",
              "      <td>0.769231</td>\n",
              "      <td>0.0</td>\n",
              "      <td>1.0</td>\n",
              "      <td>2.0</td>\n",
              "      <td>1.0</td>\n",
              "      <td>0.0</td>\n",
              "      <td>1.0</td>\n",
              "      <td>0.700000</td>\n",
              "      <td>0.578947</td>\n",
              "      <td>2.0</td>\n",
              "    </tr>\n",
              "  </tbody>\n",
              "</table>\n",
              "</div>"
            ],
            "text/plain": [
              "     ID  Reason for absence  ...  Body mass index  Absenteeism time in hours\n",
              "0  11.0                26.0  ...         0.578947                        4.0\n",
              "1  36.0                 0.0  ...         0.631579                        0.0\n",
              "2   3.0                23.0  ...         0.631579                        2.0\n",
              "3   7.0                 7.0  ...         0.263158                        4.0\n",
              "4  11.0                23.0  ...         0.578947                        2.0\n",
              "\n",
              "[5 rows x 20 columns]"
            ]
          },
          "metadata": {
            "tags": []
          },
          "execution_count": 41
        }
      ]
    },
    {
      "cell_type": "code",
      "metadata": {
        "deletable": true,
        "editable": true,
        "id": "AeNEqECppVEH",
        "colab_type": "code",
        "colab": {}
      },
      "source": [
        "#Creating dummy data for categorical variables\n",
        "absent_data = pd.get_dummies(data = absent_data, columns = cat_vars)"
      ],
      "execution_count": 0,
      "outputs": []
    },
    {
      "cell_type": "code",
      "metadata": {
        "deletable": true,
        "editable": true,
        "id": "3iej-BqLpVEO",
        "colab_type": "code",
        "colab": {}
      },
      "source": [
        "#Take backup of data\n",
        "absent_data_copy = absent_data.copy()"
      ],
      "execution_count": 0,
      "outputs": []
    },
    {
      "cell_type": "code",
      "metadata": {
        "deletable": true,
        "editable": true,
        "id": "dKufENcppVEV",
        "colab_type": "code",
        "outputId": "b1403201-d88b-44b7-efb0-8616cfa6409e",
        "colab": {
          "base_uri": "https://localhost:8080/",
          "height": 35
        }
      },
      "source": [
        "absent_data.shape"
      ],
      "execution_count": 44,
      "outputs": [
        {
          "output_type": "execute_result",
          "data": {
            "text/plain": [
              "(718, 129)"
            ]
          },
          "metadata": {
            "tags": []
          },
          "execution_count": 44
        }
      ]
    },
    {
      "cell_type": "markdown",
      "metadata": {
        "id": "NLQVIrtA3_wW",
        "colab_type": "text"
      },
      "source": [
        "#### Dimensionality Reduction using Principal Component Analysis"
      ]
    },
    {
      "cell_type": "code",
      "metadata": {
        "id": "W3x3Ki135AGX",
        "colab_type": "code",
        "colab": {}
      },
      "source": [
        "absent_data = absent_data.reset_index(drop = True)\n",
        "\n",
        "#spliting the train data \n",
        "x_data = absent_data.drop(['Absenteeism time in hours'], axis=1)\n",
        "y_data = absent_data['Absenteeism time in hours']"
      ],
      "execution_count": 0,
      "outputs": []
    },
    {
      "cell_type": "code",
      "metadata": {
        "id": "WwThqIdT5d7Y",
        "colab_type": "code",
        "outputId": "64df9ffd-4ea4-490d-95f3-576fd6999452",
        "colab": {
          "base_uri": "https://localhost:8080/",
          "height": 35
        }
      },
      "source": [
        "x_data.shape"
      ],
      "execution_count": 46,
      "outputs": [
        {
          "output_type": "execute_result",
          "data": {
            "text/plain": [
              "(718, 128)"
            ]
          },
          "metadata": {
            "tags": []
          },
          "execution_count": 46
        }
      ]
    },
    {
      "cell_type": "code",
      "metadata": {
        "id": "v-r6tDJ13yjv",
        "colab_type": "code",
        "outputId": "9a040ca2-ae5a-4e55-96d7-9aa0563f0c26",
        "colab": {
          "base_uri": "https://localhost:8080/",
          "height": 295
        }
      },
      "source": [
        "from sklearn.decomposition import PCA\n",
        "\n",
        "# Converting data to numpy array\n",
        "#X = x_data.values\n",
        "X = x_data.copy()\n",
        "\n",
        "# Data has 128 variables so no of components of PCA:128\n",
        "pca = PCA(n_components=128)\n",
        "pca.fit(X)\n",
        "\n",
        "# The amount of variance that each PC explains\n",
        "var= pca.explained_variance_ratio_\n",
        "\n",
        "# Cumulative Variance explains\n",
        "var1=np.cumsum(np.round(pca.explained_variance_ratio_, decimals=4)*100)\n",
        "\n",
        "plt.plot(var1)\n",
        "plt.xlabel('Principal Components')\n",
        "plt.ylabel('Cumulative proportion of variance')\n",
        "plt.title('CDF plot')\n",
        "plt.show()"
      ],
      "execution_count": 47,
      "outputs": [
        {
          "output_type": "display_data",
          "data": {
            "image/png": "[encoded data removed]",
            "text/plain": [
              "<Figure size 432x288 with 1 Axes>"
            ]
          },
          "metadata": {
            "tags": []
          }
        }
      ]
    },
    {
      "cell_type": "code",
      "metadata": {
        "id": "-fviNIvH4_Qv",
        "colab_type": "code",
        "outputId": "8bed846d-57bf-4f2f-b515-a49cad8f3834",
        "colab": {
          "base_uri": "https://localhost:8080/",
          "height": 35
        }
      },
      "source": [
        "# We can see that, more than 95% variance is explained by less than 50 variables.\n",
        "\n",
        "\n",
        "X=x_data.copy()\n",
        "\n",
        "# From the above plot selecting 95% data variance\n",
        "pca = PCA(.95)\n",
        "\n",
        "# Fitting the 95% of selected components to the data\n",
        "X=pca.fit(X).transform(X)\n",
        "\n",
        "X=pd.DataFrame(X)\n",
        "\n",
        "X.shape\n",
        "\n",
        "# Almost 95% variance is explained by just 47 variables. So, we will reduce the components to 47"
      ],
      "execution_count": 48,
      "outputs": [
        {
          "output_type": "execute_result",
          "data": {
            "text/plain": [
              "(718, 47)"
            ]
          },
          "metadata": {
            "tags": []
          },
          "execution_count": 48
        }
      ]
    },
    {
      "cell_type": "code",
      "metadata": {
        "id": "rU82dwhB51ER",
        "colab_type": "code",
        "colab": {}
      },
      "source": [
        "from sklearn.model_selection import train_test_split\n",
        "\n",
        "#splitting data into test and train\n",
        "#X denotes independent variables, y denotes dependent variable\n",
        "x_train, x_test, y_train, y_test = train_test_split(X, y_data, test_size=0.2)"
      ],
      "execution_count": 0,
      "outputs": []
    },
    {
      "cell_type": "code",
      "metadata": {
        "id": "hIEpgSyO50-S",
        "colab_type": "code",
        "outputId": "a6edbadf-18f7-44a7-f12c-6c79a8b27492",
        "colab": {
          "base_uri": "https://localhost:8080/",
          "height": 35
        }
      },
      "source": [
        "x_train.shape"
      ],
      "execution_count": 50,
      "outputs": [
        {
          "output_type": "execute_result",
          "data": {
            "text/plain": [
              "(574, 47)"
            ]
          },
          "metadata": {
            "tags": []
          },
          "execution_count": 50
        }
      ]
    },
    {
      "cell_type": "code",
      "metadata": {
        "id": "F0GjVBx8504e",
        "colab_type": "code",
        "outputId": "a03a0d21-de1d-4a6d-9baa-15846de663f0",
        "colab": {
          "base_uri": "https://localhost:8080/",
          "height": 35
        }
      },
      "source": [
        "x_test.shape"
      ],
      "execution_count": 51,
      "outputs": [
        {
          "output_type": "execute_result",
          "data": {
            "text/plain": [
              "(144, 47)"
            ]
          },
          "metadata": {
            "tags": []
          },
          "execution_count": 51
        }
      ]
    },
    {
      "cell_type": "markdown",
      "metadata": {
        "id": "eIJ3hU4HFT4L",
        "colab_type": "text"
      },
      "source": [
        ""
      ]
    },
    {
      "cell_type": "markdown",
      "metadata": {
        "id": "Njmqpy068ii3",
        "colab_type": "text"
      },
      "source": [
        "### Model Building"
      ]
    },
    {
      "cell_type": "code",
      "metadata": {
        "id": "KIIE81g6jjQC",
        "colab_type": "code",
        "colab": {}
      },
      "source": [
        "# store model performance in a Dataframe\n",
        "modelsDF = pd.DataFrame(columns=['Model Name', 'RMSE Training', 'RMSE Test', 'R2 Score'])"
      ],
      "execution_count": 0,
      "outputs": []
    },
    {
      "cell_type": "markdown",
      "metadata": {
        "deletable": true,
        "editable": true,
        "id": "qePS-2RFpVGU",
        "colab_type": "text"
      },
      "source": [
        "#### Decision Tree"
      ]
    },
    {
      "cell_type": "code",
      "metadata": {
        "deletable": true,
        "editable": true,
        "id": "KEMY4dy2pVGV",
        "colab_type": "code",
        "outputId": "f7a9b621-7331-4879-e882-b79669688449",
        "colab": {
          "base_uri": "https://localhost:8080/",
          "height": 0
        }
      },
      "source": [
        "#Import Decision Tree libraries\n",
        "from sklearn.tree import DecisionTreeRegressor\n",
        "from sklearn.metrics import mean_squared_error\n",
        "\n",
        "#Build model for training dataset\n",
        "fit_DT = DecisionTreeRegressor(max_depth = 2).fit(x_train,y_train)\n",
        "\n",
        "#Calculate RMSE for training data to check model overfit\n",
        "pred_train = fit_DT.predict(x_train)\n",
        "rmse_train = np.sqrt(mean_squared_error(y_train,pred_train))\n",
        "\n",
        "# Calculating RMSE for test data to check accuracy\n",
        "pred_test = fit_DT.predict(x_test)\n",
        "rmse_test =np.sqrt(mean_squared_error(y_test,pred_test))\n",
        "\n",
        "r2_val = r2_score(y_test,pred_test)\n",
        "\n",
        "print(\"Root Mean Squared Error For Training data = \"+str(rmse_train))\n",
        "print(\"Root Mean Squared Error For Test data = \"+str(rmse_test))\n",
        "print(\"R^2 Score(coefficient of determination) = \"+str(r2_val))\n",
        "\n",
        "\n",
        "modelsDF.loc[len(modelsDF)] = [\"Decision Tree\", rmse_train, rmse_test, r2_val]"
      ],
      "execution_count": 53,
      "outputs": [
        {
          "output_type": "stream",
          "text": [
            "Root Mean Squared Error For Training data = 3.1116238461833805\n",
            "Root Mean Squared Error For Test data = 3.092061999876334\n",
            "R^2 Score(coefficient of determination) = 0.0543892194048371\n"
          ],
          "name": "stdout"
        }
      ]
    },
    {
      "cell_type": "markdown",
      "metadata": {
        "deletable": true,
        "editable": true,
        "id": "fBIjwdWqpVGc",
        "colab_type": "text"
      },
      "source": [
        "#### Random forest"
      ]
    },
    {
      "cell_type": "code",
      "metadata": {
        "deletable": true,
        "editable": true,
        "id": "kEEOMHFwpVGd",
        "colab_type": "code",
        "outputId": "89a9755a-470b-4204-873d-ae7908ffba8d",
        "colab": {
          "base_uri": "https://localhost:8080/",
          "height": 69
        }
      },
      "source": [
        "#Import Random Forest libraries\n",
        "from sklearn.ensemble import RandomForestRegressor\n",
        "\n",
        "#Build model on top of training dataset\n",
        "fit_RF = RandomForestRegressor(n_estimators = 500).fit(x_train,y_train)\n",
        "\n",
        "#Calculate RMSE for training data to model overfit\n",
        "pred_train = fit_RF.predict(x_train)\n",
        "rmse_train = np.sqrt(mean_squared_error(y_train,pred_train))\n",
        "\n",
        "# Calculate RMSE for test data to check accuracy\n",
        "pred_test = fit_RF.predict(x_test)\n",
        "rmse_test =np.sqrt(mean_squared_error(y_test,pred_test))\n",
        "\n",
        "r2_val = r2_score(y_test,pred_test)\n",
        "\n",
        "print(\"Root Mean Squared Error For Training data = \"+str(rmse_train))\n",
        "print(\"Root Mean Squared Error For Test data = \"+str(rmse_test))\n",
        "print(\"R^2 Score(coefficient of determination) = \"+str(r2_val))\n",
        "\n",
        "\n",
        "# store results in a Dataframe\n",
        "modelsDF.loc[len(modelsDF)] = [\"Random Forest\", rmse_train, rmse_test, r2_val]"
      ],
      "execution_count": 54,
      "outputs": [
        {
          "output_type": "stream",
          "text": [
            "Root Mean Squared Error For Training data = 1.1203213595050938\n",
            "Root Mean Squared Error For Test data = 2.48077353550785\n",
            "R^2 Score(coefficient of determination) = 0.39131826713622386\n"
          ],
          "name": "stdout"
        }
      ]
    },
    {
      "cell_type": "markdown",
      "metadata": {
        "deletable": true,
        "editable": true,
        "id": "kBogff5_pVGi",
        "colab_type": "text"
      },
      "source": [
        "#### Linear Regression"
      ]
    },
    {
      "cell_type": "code",
      "metadata": {
        "deletable": true,
        "editable": true,
        "id": "Zq8cboctpVGj",
        "colab_type": "code",
        "outputId": "e9ec15f0-7791-49b5-ae22-12204f2f9d15",
        "colab": {
          "base_uri": "https://localhost:8080/",
          "height": 0
        }
      },
      "source": [
        "# Importing Linear Regression libraries\n",
        "from sklearn.linear_model import LinearRegression\n",
        "\n",
        "# Build model on top of training dataset\n",
        "fit_LR = LinearRegression().fit(x_train , y_train)\n",
        "\n",
        "# Calculating RMSE for training data to check for over fitting\n",
        "pred_train = fit_LR.predict(x_train)\n",
        "rmse_train = np.sqrt(mean_squared_error(y_train,pred_train))\n",
        "\n",
        "# Calculating RMSE for test data to check accuracy\n",
        "pred_test = fit_LR.predict(x_test)\n",
        "rmse_test =np.sqrt(mean_squared_error(y_test,pred_test))\n",
        "\n",
        "r2_val = r2_score(y_test,pred_test)\n",
        "\n",
        "print(\"Root Mean Squared Error For Training data = \"+str(rmse_train))\n",
        "print(\"Root Mean Squared Error For Test data = \"+str(rmse_test))\n",
        "print(\"R^2 Score(coefficient of determination) = \"+str(r2_val))\n",
        "\n",
        "# store results in a Dataframe\n",
        "modelsDF.loc[len(modelsDF)] = [\"Linear Regression\", rmse_train, rmse_test, r2_val]"
      ],
      "execution_count": 55,
      "outputs": [
        {
          "output_type": "stream",
          "text": [
            "Root Mean Squared Error For Training data = 2.568559276805712\n",
            "Root Mean Squared Error For Test data = 2.4437565584415437\n",
            "R^2 Score(coefficient of determination) = 0.4093476878676332\n"
          ],
          "name": "stdout"
        }
      ]
    },
    {
      "cell_type": "markdown",
      "metadata": {
        "deletable": true,
        "editable": true,
        "id": "8hC812m4pVGp",
        "colab_type": "text"
      },
      "source": [
        "#### Gradient Boosting"
      ]
    },
    {
      "cell_type": "code",
      "metadata": {
        "deletable": true,
        "editable": true,
        "id": "GEgZIQkkpVGr",
        "colab_type": "code",
        "outputId": "0d9a77b7-45c4-4487-98e6-402d073da6bd",
        "colab": {
          "base_uri": "https://localhost:8080/",
          "height": 0
        }
      },
      "source": [
        "#Import GradientBoosting library\n",
        "from sklearn.ensemble import GradientBoostingRegressor\n",
        "\n",
        "#Build model on top of train dataset\n",
        "fit_GB = GradientBoostingRegressor().fit(x_train, y_train)\n",
        "\n",
        "# Calculate RMSE for training data to check model over fitting\n",
        "pred_train = fit_GB.predict(x_train)\n",
        "rmse_train = np.sqrt(mean_squared_error(y_train,pred_train))\n",
        "\n",
        "# Calculating RMSE for test data to check accuracy\n",
        "pred_test = fit_GB.predict(x_test)\n",
        "rmse_test =np.sqrt(mean_squared_error(y_test,pred_test))\n",
        "\n",
        "r2_val = r2_score(y_test,pred_test)\n",
        "\n",
        "print(\"Root Mean Squared Error For Training data = \"+str(rmse_train))\n",
        "print(\"Root Mean Squared Error For Test data = \"+str(rmse_test))\n",
        "print(\"R^2 Score(coefficient of determination) = \"+str(r2_val))\n",
        "\n",
        "\n",
        "# store results in a Dataframe\n",
        "modelsDF.loc[len(modelsDF)] = [\"Gradient Boosting\", rmse_train, rmse_test, r2_val]"
      ],
      "execution_count": 56,
      "outputs": [
        {
          "output_type": "stream",
          "text": [
            "Root Mean Squared Error For Training data = 1.4019928075751449\n",
            "Root Mean Squared Error For Test data = 2.6204113745294704\n",
            "R^2 Score(coefficient of determination) = 0.320866772142691\n"
          ],
          "name": "stdout"
        }
      ]
    },
    {
      "cell_type": "code",
      "metadata": {
        "id": "ktqIeb-AdX6s",
        "colab_type": "code",
        "outputId": "7fe28e67-3d5a-40ff-e407-fb2c4f51e5f4",
        "colab": {
          "base_uri": "https://localhost:8080/",
          "height": 0
        }
      },
      "source": [
        "modelsDF"
      ],
      "execution_count": 57,
      "outputs": [
        {
          "output_type": "execute_result",
          "data": {
            "text/html": [
              "<div>\n",
              "<style scoped>\n",
              "    .dataframe tbody tr th:only-of-type {\n",
              "        vertical-align: middle;\n",
              "    }\n",
              "\n",
              "    .dataframe tbody tr th {\n",
              "        vertical-align: top;\n",
              "    }\n",
              "\n",
              "    .dataframe thead th {\n",
              "        text-align: right;\n",
              "    }\n",
              "</style>\n",
              "<table border=\"1\" class=\"dataframe\">\n",
              "  <thead>\n",
              "    <tr style=\"text-align: right;\">\n",
              "      <th></th>\n",
              "      <th>Model Name</th>\n",
              "      <th>RMSE Training</th>\n",
              "      <th>RMSE Test</th>\n",
              "      <th>R2 Score</th>\n",
              "    </tr>\n",
              "  </thead>\n",
              "  <tbody>\n",
              "    <tr>\n",
              "      <th>0</th>\n",
              "      <td>Decision Tree</td>\n",
              "      <td>3.111624</td>\n",
              "      <td>3.092062</td>\n",
              "      <td>0.054389</td>\n",
              "    </tr>\n",
              "    <tr>\n",
              "      <th>1</th>\n",
              "      <td>Random Forest</td>\n",
              "      <td>1.120321</td>\n",
              "      <td>2.480774</td>\n",
              "      <td>0.391318</td>\n",
              "    </tr>\n",
              "    <tr>\n",
              "      <th>2</th>\n",
              "      <td>Linear Regression</td>\n",
              "      <td>2.568559</td>\n",
              "      <td>2.443757</td>\n",
              "      <td>0.409348</td>\n",
              "    </tr>\n",
              "    <tr>\n",
              "      <th>3</th>\n",
              "      <td>Gradient Boosting</td>\n",
              "      <td>1.401993</td>\n",
              "      <td>2.620411</td>\n",
              "      <td>0.320867</td>\n",
              "    </tr>\n",
              "  </tbody>\n",
              "</table>\n",
              "</div>"
            ],
            "text/plain": [
              "          Model Name  RMSE Training  RMSE Test  R2 Score\n",
              "0      Decision Tree       3.111624   3.092062  0.054389\n",
              "1      Random Forest       1.120321   2.480774  0.391318\n",
              "2  Linear Regression       2.568559   2.443757  0.409348\n",
              "3  Gradient Boosting       1.401993   2.620411  0.320867"
            ]
          },
          "metadata": {
            "tags": []
          },
          "execution_count": 57
        }
      ]
    },
    {
      "cell_type": "markdown",
      "metadata": {
        "id": "ReLWZiifSfnl",
        "colab_type": "text"
      },
      "source": [
        "### Visualization"
      ]
    },
    {
      "cell_type": "code",
      "metadata": {
        "id": "MVXeryNcdYWD",
        "colab_type": "code",
        "outputId": "3e0303c7-e9fb-4f5b-8efd-4831c25a7e85",
        "colab": {
          "base_uri": "https://localhost:8080/",
          "height": 1000
        }
      },
      "source": [
        "#Let's plot gragh to show relationship between independent categorical variables and Target variable.\n",
        "\n",
        "for i in cat_vars:\n",
        " orig_absent_data.groupby(i)['Absenteeism time in hours'].count().plot(kind='bar',figsize=(10,4))\n",
        " plt.ylabel('Absenteeism time in hours')\n",
        " plt.show()"
      ],
      "execution_count": 58,
      "outputs": [
        {
          "output_type": "display_data",
          "data": {
            "image/png": "[encoded data removed]",
            "text/plain": [
              "<Figure size 720x288 with 1 Axes>"
            ]
          },
          "metadata": {
            "tags": []
          }
        },
        {
          "output_type": "display_data",
          "data": {
            "image/png": "[encoded data removed]",
            "text/plain": [
              "<Figure size 720x288 with 1 Axes>"
            ]
          },
          "metadata": {
            "tags": []
          }
        },
        {
          "output_type": "display_data",
          "data": {
            "image/png": "[encoded data removed]",
            "text/plain": [
              "<Figure size 720x288 with 1 Axes>"
            ]
          },
          "metadata": {
            "tags": []
          }
        },
        {
          "output_type": "display_data",
          "data": {
            "image/png": "[encoded data removed]",
            "text/plain": [
              "<Figure size 720x288 with 1 Axes>"
            ]
          },
          "metadata": {
            "tags": []
          }
        },
        {
          "output_type": "display_data",
          "data": {
            "image/png": "[encoded data removed]",
            "text/plain": [
              "<Figure size 720x288 with 1 Axes>"
            ]
          },
          "metadata": {
            "tags": []
          }
        },
        {
          "output_type": "display_data",
          "data": {
            "image/png": "[encoded data removed]",
            "text/plain": [
              "<Figure size 720x288 with 1 Axes>"
            ]
          },
          "metadata": {
            "tags": []
          }
        },
        {
          "output_type": "display_data",
          "data": {
            "image/png": "[encoded data removed]",
            "text/plain": [
              "<Figure size 720x288 with 1 Axes>"
            ]
          },
          "metadata": {
            "tags": []
          }
        },
        {
          "output_type": "display_data",
          "data": {
            "image/png": "[encoded data removed]",
            "text/plain": [
              "<Figure size 720x288 with 1 Axes>"
            ]
          },
          "metadata": {
            "tags": []
          }
        },
        {
          "output_type": "display_data",
          "data": {
            "image/png": "[encoded data removed]",
            "text/plain": [
              "<Figure size 720x288 with 1 Axes>"
            ]
          },
          "metadata": {
            "tags": []
          }
        },
        {
          "output_type": "display_data",
          "data": {
            "image/png": "[encoded data removed]",
            "text/plain": [
              "<Figure size 720x288 with 1 Axes>"
            ]
          },
          "metadata": {
            "tags": []
          }
        },
        {
          "output_type": "display_data",
          "data": {
            "image/png": "[encoded data removed]",
            "text/plain": [
              "<Figure size 720x288 with 1 Axes>"
            ]
          },
          "metadata": {
            "tags": []
          }
        }
      ]
    },
    {
      "cell_type": "markdown",
      "metadata": {
        "id": "eC5f9ZVVIHzb",
        "colab_type": "text"
      },
      "source": [
        "**Conclusion:**\n",
        "Longest hours of Absence for the Reasons 23,28,13,27,19...\n",
        "\n",
        "23 - medical consultation. \n",
        "28 - dental consultation. \n",
        "27 - physiotherapy.\n",
        "\n",
        "From 'Month_of_absent' distribution, we can see that frquency of leaves are more or less uniformally distributed over months, with highest no. of leaves taken in March, Feb and July(holiday season).\n",
        "\n",
        "From, Absent_Weekday distribution, we can see that frquency of leaves are mostly distributed, with most frequent leaves on 'Monday'.\n",
        "\n",
        "Displinary failures are very least.\n",
        "\n",
        "Employee with Education ‘High School’ tend to take more hours of absence.\n",
        "\n",
        "Employee with 3-4 kids tend to take less hours of absence.\n",
        "\n",
        "'Social Drinker' takes little more leaves than non drinker.\n",
        "\n",
        "From, 'Son' and 'Pet', we can see that people having no kids and no pets(no family responsibilities) tend to take frequent leaves."
      ]
    },
    {
      "cell_type": "markdown",
      "metadata": {
        "id": "8vyOeL6j53HO",
        "colab_type": "text"
      },
      "source": [
        "### TEST DATA PREDICTIONS FOR YEAR 2010--->"
      ]
    },
    {
      "cell_type": "markdown",
      "metadata": {
        "id": "LHi3m0jo6Bil",
        "colab_type": "text"
      },
      "source": [
        "Looking at models performance, we can say that 'Random Forest' is the best model based on RMSE value. "
      ]
    },
    {
      "cell_type": "code",
      "metadata": {
        "id": "V26FSKAV-o91",
        "colab_type": "code",
        "colab": {
          "base_uri": "https://localhost:8080/",
          "height": 35
        },
        "outputId": "d6375a54-3aea-4389-b2cc-a609dad0a418"
      },
      "source": [
        "model =  RandomForestRegressor(n_estimators=  500).fit(x_train, y_train)\n",
        "\n",
        "y_pred = model.predict(x_test)\n",
        "rmse_pred =np.sqrt(mean_squared_error(y_test,y_pred))\n",
        "\n",
        "print(\"Root Mean Squared Error = \" + str(rmse_pred))"
      ],
      "execution_count": 59,
      "outputs": [
        {
          "output_type": "stream",
          "text": [
            "Root Mean Squared Error = 2.467138396379706\n"
          ],
          "name": "stdout"
        }
      ]
    },
    {
      "cell_type": "code",
      "metadata": {
        "id": "4nYp1tF56Awd",
        "colab_type": "code",
        "colab": {
          "base_uri": "https://localhost:8080/",
          "height": 378
        },
        "outputId": "90977d0c-f1e1-42c0-aab8-c76532e1a7eb"
      },
      "source": [
        "Absence_prediction=df1.iloc[x_test.index.values,:]\n",
        "Absence_prediction[\"Predicted Absent hours\"]=y_pred\n",
        "Absence_prediction.head() "
      ],
      "execution_count": 60,
      "outputs": [
        {
          "output_type": "stream",
          "text": [
            "/usr/local/lib/python3.6/dist-packages/ipykernel_launcher.py:2: SettingWithCopyWarning: \n",
            "A value is trying to be set on a copy of a slice from a DataFrame.\n",
            "Try using .loc[row_indexer,col_indexer] = value instead\n",
            "\n",
            "See the caveats in the documentation: http://pandas.pydata.org/pandas-docs/stable/indexing.html#indexing-view-versus-copy\n",
            "  \n"
          ],
          "name": "stderr"
        },
        {
          "output_type": "execute_result",
          "data": {
            "text/html": [
              "<div>\n",
              "<style scoped>\n",
              "    .dataframe tbody tr th:only-of-type {\n",
              "        vertical-align: middle;\n",
              "    }\n",
              "\n",
              "    .dataframe tbody tr th {\n",
              "        vertical-align: top;\n",
              "    }\n",
              "\n",
              "    .dataframe thead th {\n",
              "        text-align: right;\n",
              "    }\n",
              "</style>\n",
              "<table border=\"1\" class=\"dataframe\">\n",
              "  <thead>\n",
              "    <tr style=\"text-align: right;\">\n",
              "      <th></th>\n",
              "      <th>ID</th>\n",
              "      <th>Reason for absence</th>\n",
              "      <th>Month of absence</th>\n",
              "      <th>Day of the week</th>\n",
              "      <th>Seasons</th>\n",
              "      <th>Transportation expense</th>\n",
              "      <th>Distance from Residence to Work</th>\n",
              "      <th>Service time</th>\n",
              "      <th>Age</th>\n",
              "      <th>Work load Average/day</th>\n",
              "      <th>Hit target</th>\n",
              "      <th>Disciplinary failure</th>\n",
              "      <th>Education</th>\n",
              "      <th>Son</th>\n",
              "      <th>Social drinker</th>\n",
              "      <th>Social smoker</th>\n",
              "      <th>Pet</th>\n",
              "      <th>Height</th>\n",
              "      <th>Body mass index</th>\n",
              "      <th>Absenteeism time in hours</th>\n",
              "      <th>Predicted Absent hours</th>\n",
              "    </tr>\n",
              "  </thead>\n",
              "  <tbody>\n",
              "    <tr>\n",
              "      <th>688</th>\n",
              "      <td>23.0</td>\n",
              "      <td>22.000000</td>\n",
              "      <td>6.0</td>\n",
              "      <td>5.0</td>\n",
              "      <td>3.0</td>\n",
              "      <td>1.000000</td>\n",
              "      <td>0.936170</td>\n",
              "      <td>0.434783</td>\n",
              "      <td>0.346154</td>\n",
              "      <td>0.503670</td>\n",
              "      <td>0.692308</td>\n",
              "      <td>0.0</td>\n",
              "      <td>1.0</td>\n",
              "      <td>2.0</td>\n",
              "      <td>0.0</td>\n",
              "      <td>1.0</td>\n",
              "      <td>4.0</td>\n",
              "      <td>0.900000</td>\n",
              "      <td>0.105263</td>\n",
              "      <td>8.0</td>\n",
              "      <td>7.666552</td>\n",
              "    </tr>\n",
              "    <tr>\n",
              "      <th>365</th>\n",
              "      <td>6.0</td>\n",
              "      <td>20.071734</td>\n",
              "      <td>2.0</td>\n",
              "      <td>2.0</td>\n",
              "      <td>2.0</td>\n",
              "      <td>0.273077</td>\n",
              "      <td>0.510638</td>\n",
              "      <td>0.521739</td>\n",
              "      <td>0.230769</td>\n",
              "      <td>0.334224</td>\n",
              "      <td>0.692308</td>\n",
              "      <td>0.0</td>\n",
              "      <td>1.0</td>\n",
              "      <td>2.0</td>\n",
              "      <td>0.0</td>\n",
              "      <td>0.0</td>\n",
              "      <td>2.0</td>\n",
              "      <td>0.200000</td>\n",
              "      <td>0.315789</td>\n",
              "      <td>8.0</td>\n",
              "      <td>7.275367</td>\n",
              "    </tr>\n",
              "    <tr>\n",
              "      <th>281</th>\n",
              "      <td>36.0</td>\n",
              "      <td>0.000000</td>\n",
              "      <td>10.0</td>\n",
              "      <td>6.0</td>\n",
              "      <td>4.0</td>\n",
              "      <td>0.000000</td>\n",
              "      <td>0.170213</td>\n",
              "      <td>0.739130</td>\n",
              "      <td>0.884615</td>\n",
              "      <td>0.430331</td>\n",
              "      <td>0.076923</td>\n",
              "      <td>1.0</td>\n",
              "      <td>1.0</td>\n",
              "      <td>1.0</td>\n",
              "      <td>1.0</td>\n",
              "      <td>0.0</td>\n",
              "      <td>0.0</td>\n",
              "      <td>0.685438</td>\n",
              "      <td>0.631579</td>\n",
              "      <td>0.0</td>\n",
              "      <td>1.139070</td>\n",
              "    </tr>\n",
              "    <tr>\n",
              "      <th>286</th>\n",
              "      <td>3.0</td>\n",
              "      <td>28.000000</td>\n",
              "      <td>10.0</td>\n",
              "      <td>4.0</td>\n",
              "      <td>4.0</td>\n",
              "      <td>0.234615</td>\n",
              "      <td>0.978723</td>\n",
              "      <td>0.739130</td>\n",
              "      <td>0.423077</td>\n",
              "      <td>0.430331</td>\n",
              "      <td>0.076923</td>\n",
              "      <td>0.0</td>\n",
              "      <td>1.0</td>\n",
              "      <td>0.0</td>\n",
              "      <td>1.0</td>\n",
              "      <td>0.0</td>\n",
              "      <td>0.0</td>\n",
              "      <td>0.500000</td>\n",
              "      <td>0.631579</td>\n",
              "      <td>1.0</td>\n",
              "      <td>3.912300</td>\n",
              "    </tr>\n",
              "    <tr>\n",
              "      <th>265</th>\n",
              "      <td>19.0</td>\n",
              "      <td>0.000000</td>\n",
              "      <td>9.0</td>\n",
              "      <td>3.0</td>\n",
              "      <td>1.0</td>\n",
              "      <td>0.665385</td>\n",
              "      <td>0.957447</td>\n",
              "      <td>0.478261</td>\n",
              "      <td>0.192308</td>\n",
              "      <td>0.642949</td>\n",
              "      <td>0.439884</td>\n",
              "      <td>1.0</td>\n",
              "      <td>1.0</td>\n",
              "      <td>0.0</td>\n",
              "      <td>1.0</td>\n",
              "      <td>0.0</td>\n",
              "      <td>0.0</td>\n",
              "      <td>0.400000</td>\n",
              "      <td>0.210526</td>\n",
              "      <td>0.0</td>\n",
              "      <td>0.362323</td>\n",
              "    </tr>\n",
              "  </tbody>\n",
              "</table>\n",
              "</div>"
            ],
            "text/plain": [
              "       ID  ...  Predicted Absent hours\n",
              "688  23.0  ...                7.666552\n",
              "365   6.0  ...                7.275367\n",
              "281  36.0  ...                1.139070\n",
              "286   3.0  ...                3.912300\n",
              "265  19.0  ...                0.362323\n",
              "\n",
              "[5 rows x 21 columns]"
            ]
          },
          "metadata": {
            "tags": []
          },
          "execution_count": 60
        }
      ]
    },
    {
      "cell_type": "code",
      "metadata": {
        "id": "QSenGKNldYJ6",
        "colab_type": "code",
        "colab": {
          "base_uri": "https://localhost:8080/",
          "height": 35
        },
        "outputId": "a45668b8-42d4-4194-ad6b-492d98054b6f"
      },
      "source": [
        "#Predicted absence hours of 2010\n",
        "Absence_prediction['Predicted Absent hours'].sum()"
      ],
      "execution_count": 61,
      "outputs": [
        {
          "output_type": "execute_result",
          "data": {
            "text/plain": [
              "579.82171612712"
            ]
          },
          "metadata": {
            "tags": []
          },
          "execution_count": 61
        }
      ]
    },
    {
      "cell_type": "code",
      "metadata": {
        "id": "mp62xop7Bfdi",
        "colab_type": "code",
        "colab": {
          "base_uri": "https://localhost:8080/",
          "height": 35
        },
        "outputId": "bfbfceb0-ef9d-4961-bd8b-0927bbe5d67d"
      },
      "source": [
        "#Actual absence hours of 2010\n",
        "Absence_prediction['Absenteeism time in hours'].sum()"
      ],
      "execution_count": 62,
      "outputs": [
        {
          "output_type": "execute_result",
          "data": {
            "text/plain": [
              "541.3275350906434"
            ]
          },
          "metadata": {
            "tags": []
          },
          "execution_count": 62
        }
      ]
    },
    {
      "cell_type": "code",
      "metadata": {
        "id": "X8_pE4MGBvFK",
        "colab_type": "code",
        "colab": {
          "base_uri": "https://localhost:8080/",
          "height": 417
        },
        "outputId": "b3d40be9-c47f-4246-9cb6-53d529d6af02"
      },
      "source": [
        "#Predicted absence hours per month[2010]\n",
        "Absence_prediction.groupby('Month of absence').sum().reset_index()[[\n",
        "    'Month of absence','Absenteeism time in hours','Predicted Absent hours']]"
      ],
      "execution_count": 63,
      "outputs": [
        {
          "output_type": "execute_result",
          "data": {
            "text/html": [
              "<div>\n",
              "<style scoped>\n",
              "    .dataframe tbody tr th:only-of-type {\n",
              "        vertical-align: middle;\n",
              "    }\n",
              "\n",
              "    .dataframe tbody tr th {\n",
              "        vertical-align: top;\n",
              "    }\n",
              "\n",
              "    .dataframe thead th {\n",
              "        text-align: right;\n",
              "    }\n",
              "</style>\n",
              "<table border=\"1\" class=\"dataframe\">\n",
              "  <thead>\n",
              "    <tr style=\"text-align: right;\">\n",
              "      <th></th>\n",
              "      <th>Month of absence</th>\n",
              "      <th>Absenteeism time in hours</th>\n",
              "      <th>Predicted Absent hours</th>\n",
              "    </tr>\n",
              "  </thead>\n",
              "  <tbody>\n",
              "    <tr>\n",
              "      <th>0</th>\n",
              "      <td>1.0</td>\n",
              "      <td>30.000000</td>\n",
              "      <td>41.574492</td>\n",
              "    </tr>\n",
              "    <tr>\n",
              "      <th>1</th>\n",
              "      <td>2.0</td>\n",
              "      <td>76.000000</td>\n",
              "      <td>70.475020</td>\n",
              "    </tr>\n",
              "    <tr>\n",
              "      <th>2</th>\n",
              "      <td>3.0</td>\n",
              "      <td>68.514555</td>\n",
              "      <td>68.686295</td>\n",
              "    </tr>\n",
              "    <tr>\n",
              "      <th>3</th>\n",
              "      <td>4.0</td>\n",
              "      <td>50.577231</td>\n",
              "      <td>40.902008</td>\n",
              "    </tr>\n",
              "    <tr>\n",
              "      <th>4</th>\n",
              "      <td>5.0</td>\n",
              "      <td>55.000000</td>\n",
              "      <td>54.666424</td>\n",
              "    </tr>\n",
              "    <tr>\n",
              "      <th>5</th>\n",
              "      <td>6.0</td>\n",
              "      <td>55.000000</td>\n",
              "      <td>58.134157</td>\n",
              "    </tr>\n",
              "    <tr>\n",
              "      <th>6</th>\n",
              "      <td>7.0</td>\n",
              "      <td>59.000000</td>\n",
              "      <td>63.508143</td>\n",
              "    </tr>\n",
              "    <tr>\n",
              "      <th>7</th>\n",
              "      <td>8.0</td>\n",
              "      <td>33.000000</td>\n",
              "      <td>38.396389</td>\n",
              "    </tr>\n",
              "    <tr>\n",
              "      <th>8</th>\n",
              "      <td>9.0</td>\n",
              "      <td>26.000000</td>\n",
              "      <td>29.469701</td>\n",
              "    </tr>\n",
              "    <tr>\n",
              "      <th>9</th>\n",
              "      <td>10.0</td>\n",
              "      <td>30.000000</td>\n",
              "      <td>39.274922</td>\n",
              "    </tr>\n",
              "    <tr>\n",
              "      <th>10</th>\n",
              "      <td>11.0</td>\n",
              "      <td>24.000000</td>\n",
              "      <td>41.881586</td>\n",
              "    </tr>\n",
              "    <tr>\n",
              "      <th>11</th>\n",
              "      <td>12.0</td>\n",
              "      <td>34.235749</td>\n",
              "      <td>32.852580</td>\n",
              "    </tr>\n",
              "  </tbody>\n",
              "</table>\n",
              "</div>"
            ],
            "text/plain": [
              "    Month of absence  Absenteeism time in hours  Predicted Absent hours\n",
              "0                1.0                  30.000000               41.574492\n",
              "1                2.0                  76.000000               70.475020\n",
              "2                3.0                  68.514555               68.686295\n",
              "3                4.0                  50.577231               40.902008\n",
              "4                5.0                  55.000000               54.666424\n",
              "5                6.0                  55.000000               58.134157\n",
              "6                7.0                  59.000000               63.508143\n",
              "7                8.0                  33.000000               38.396389\n",
              "8                9.0                  26.000000               29.469701\n",
              "9               10.0                  30.000000               39.274922\n",
              "10              11.0                  24.000000               41.881586\n",
              "11              12.0                  34.235749               32.852580"
            ]
          },
          "metadata": {
            "tags": []
          },
          "execution_count": 63
        }
      ]
    },
    {
      "cell_type": "markdown",
      "metadata": {
        "id": "xVfirU2pCFRe",
        "colab_type": "text"
      },
      "source": [
        "Random Forest model is our final model to be used for prediction, We'll use this model to predict the losses of 2011. Let's prepare data for 2011."
      ]
    },
    {
      "cell_type": "code",
      "metadata": {
        "id": "ut2mmQTTCHVX",
        "colab_type": "code",
        "colab": {
          "base_uri": "https://localhost:8080/",
          "height": 274
        },
        "outputId": "b2dcb6de-c62f-46af-86df-702a585b1208"
      },
      "source": [
        "#data for 2011\n",
        "#Service and Age will be added by 1\n",
        "\n",
        "absent_data_2011 = orig_absent_data.copy()\n",
        "absent_data_2011['Age'] = absent_data_2011['Age'] + 1\n",
        "absent_data_2011['Service time'] = absent_data_2011['Service time'] + 1\n",
        "absent_data_2011.head()"
      ],
      "execution_count": 64,
      "outputs": [
        {
          "output_type": "execute_result",
          "data": {
            "text/html": [
              "<div>\n",
              "<style scoped>\n",
              "    .dataframe tbody tr th:only-of-type {\n",
              "        vertical-align: middle;\n",
              "    }\n",
              "\n",
              "    .dataframe tbody tr th {\n",
              "        vertical-align: top;\n",
              "    }\n",
              "\n",
              "    .dataframe thead th {\n",
              "        text-align: right;\n",
              "    }\n",
              "</style>\n",
              "<table border=\"1\" class=\"dataframe\">\n",
              "  <thead>\n",
              "    <tr style=\"text-align: right;\">\n",
              "      <th></th>\n",
              "      <th>ID</th>\n",
              "      <th>Reason for absence</th>\n",
              "      <th>Month of absence</th>\n",
              "      <th>Day of the week</th>\n",
              "      <th>Seasons</th>\n",
              "      <th>Transportation expense</th>\n",
              "      <th>Distance from Residence to Work</th>\n",
              "      <th>Service time</th>\n",
              "      <th>Age</th>\n",
              "      <th>Work load Average/day</th>\n",
              "      <th>Hit target</th>\n",
              "      <th>Disciplinary failure</th>\n",
              "      <th>Education</th>\n",
              "      <th>Son</th>\n",
              "      <th>Social drinker</th>\n",
              "      <th>Social smoker</th>\n",
              "      <th>Pet</th>\n",
              "      <th>Height</th>\n",
              "      <th>Body mass index</th>\n",
              "      <th>Absenteeism time in hours</th>\n",
              "    </tr>\n",
              "  </thead>\n",
              "  <tbody>\n",
              "    <tr>\n",
              "      <th>0</th>\n",
              "      <td>11.0</td>\n",
              "      <td>26.0</td>\n",
              "      <td>7.0</td>\n",
              "      <td>3.0</td>\n",
              "      <td>1.0</td>\n",
              "      <td>289.0</td>\n",
              "      <td>36.0</td>\n",
              "      <td>14.0</td>\n",
              "      <td>34.0</td>\n",
              "      <td>239554.0</td>\n",
              "      <td>97.0</td>\n",
              "      <td>0.0</td>\n",
              "      <td>1.0</td>\n",
              "      <td>2.0</td>\n",
              "      <td>1.0</td>\n",
              "      <td>0.0</td>\n",
              "      <td>1.0</td>\n",
              "      <td>172.000000</td>\n",
              "      <td>30.0</td>\n",
              "      <td>4.0</td>\n",
              "    </tr>\n",
              "    <tr>\n",
              "      <th>1</th>\n",
              "      <td>36.0</td>\n",
              "      <td>0.0</td>\n",
              "      <td>7.0</td>\n",
              "      <td>3.0</td>\n",
              "      <td>1.0</td>\n",
              "      <td>118.0</td>\n",
              "      <td>13.0</td>\n",
              "      <td>19.0</td>\n",
              "      <td>51.0</td>\n",
              "      <td>239554.0</td>\n",
              "      <td>97.0</td>\n",
              "      <td>1.0</td>\n",
              "      <td>1.0</td>\n",
              "      <td>1.0</td>\n",
              "      <td>1.0</td>\n",
              "      <td>0.0</td>\n",
              "      <td>0.0</td>\n",
              "      <td>170.000009</td>\n",
              "      <td>31.0</td>\n",
              "      <td>0.0</td>\n",
              "    </tr>\n",
              "    <tr>\n",
              "      <th>2</th>\n",
              "      <td>3.0</td>\n",
              "      <td>23.0</td>\n",
              "      <td>7.0</td>\n",
              "      <td>4.0</td>\n",
              "      <td>1.0</td>\n",
              "      <td>179.0</td>\n",
              "      <td>51.0</td>\n",
              "      <td>19.0</td>\n",
              "      <td>39.0</td>\n",
              "      <td>239554.0</td>\n",
              "      <td>97.0</td>\n",
              "      <td>0.0</td>\n",
              "      <td>1.0</td>\n",
              "      <td>0.0</td>\n",
              "      <td>1.0</td>\n",
              "      <td>0.0</td>\n",
              "      <td>0.0</td>\n",
              "      <td>170.000000</td>\n",
              "      <td>31.0</td>\n",
              "      <td>2.0</td>\n",
              "    </tr>\n",
              "    <tr>\n",
              "      <th>3</th>\n",
              "      <td>7.0</td>\n",
              "      <td>7.0</td>\n",
              "      <td>7.0</td>\n",
              "      <td>5.0</td>\n",
              "      <td>1.0</td>\n",
              "      <td>279.0</td>\n",
              "      <td>5.0</td>\n",
              "      <td>15.0</td>\n",
              "      <td>40.0</td>\n",
              "      <td>239554.0</td>\n",
              "      <td>97.0</td>\n",
              "      <td>0.0</td>\n",
              "      <td>1.0</td>\n",
              "      <td>2.0</td>\n",
              "      <td>1.0</td>\n",
              "      <td>1.0</td>\n",
              "      <td>0.0</td>\n",
              "      <td>168.000000</td>\n",
              "      <td>24.0</td>\n",
              "      <td>4.0</td>\n",
              "    </tr>\n",
              "    <tr>\n",
              "      <th>4</th>\n",
              "      <td>11.0</td>\n",
              "      <td>23.0</td>\n",
              "      <td>7.0</td>\n",
              "      <td>5.0</td>\n",
              "      <td>1.0</td>\n",
              "      <td>289.0</td>\n",
              "      <td>36.0</td>\n",
              "      <td>14.0</td>\n",
              "      <td>34.0</td>\n",
              "      <td>239554.0</td>\n",
              "      <td>97.0</td>\n",
              "      <td>0.0</td>\n",
              "      <td>1.0</td>\n",
              "      <td>2.0</td>\n",
              "      <td>1.0</td>\n",
              "      <td>0.0</td>\n",
              "      <td>1.0</td>\n",
              "      <td>172.000000</td>\n",
              "      <td>30.0</td>\n",
              "      <td>2.0</td>\n",
              "    </tr>\n",
              "  </tbody>\n",
              "</table>\n",
              "</div>"
            ],
            "text/plain": [
              "     ID  Reason for absence  ...  Body mass index  Absenteeism time in hours\n",
              "0  11.0                26.0  ...             30.0                        4.0\n",
              "1  36.0                 0.0  ...             31.0                        0.0\n",
              "2   3.0                23.0  ...             31.0                        2.0\n",
              "3   7.0                 7.0  ...             24.0                        4.0\n",
              "4  11.0                23.0  ...             30.0                        2.0\n",
              "\n",
              "[5 rows x 20 columns]"
            ]
          },
          "metadata": {
            "tags": []
          },
          "execution_count": 64
        }
      ]
    },
    {
      "cell_type": "code",
      "metadata": {
        "id": "AJ6v4bMJCcUR",
        "colab_type": "code",
        "colab": {}
      },
      "source": [
        "absent_data_2011= absent_data_2011.drop(columns = ['Absenteeism time in hours'])\n",
        "\n",
        "#Normalizing\n",
        "for i in cont_vars:\n",
        "    if i == 'Absenteeism time in hours':\n",
        "        continue   \n",
        "    absent_data_2011[i] = (absent_data_2011[i] - absent_data_2011[i].min())/(absent_data_2011[i].max()-absent_data_2011[i].min())\n",
        "\n",
        "\n",
        "# Get dummy variables for categorical variables\n",
        "emp_2011 = pd.get_dummies(data = absent_data_2011, columns = cat_vars)\n",
        "\n",
        "#pca\n",
        "pca = PCA(.95)\n",
        "emp_2011=pca.fit(emp_2011).transform(emp_2011)\n",
        "\n",
        "#predicting the 2011 model\n",
        "predict_2011_absence = model.predict(emp_2011)"
      ],
      "execution_count": 0,
      "outputs": []
    },
    {
      "cell_type": "code",
      "metadata": {
        "id": "6jlVS8p_DoRm",
        "colab_type": "code",
        "colab": {
          "base_uri": "https://localhost:8080/",
          "height": 274
        },
        "outputId": "ee2bd941-6032-4484-d6c4-04e7297939a9"
      },
      "source": [
        "#Absent prediction 2011\n",
        "Predit_2011=absent_data_2011\n",
        "Predit_2011[\"Absent hours 2011\"]=predict_2011_absence\n",
        "Predit_2011.head()"
      ],
      "execution_count": 66,
      "outputs": [
        {
          "output_type": "execute_result",
          "data": {
            "text/html": [
              "<div>\n",
              "<style scoped>\n",
              "    .dataframe tbody tr th:only-of-type {\n",
              "        vertical-align: middle;\n",
              "    }\n",
              "\n",
              "    .dataframe tbody tr th {\n",
              "        vertical-align: top;\n",
              "    }\n",
              "\n",
              "    .dataframe thead th {\n",
              "        text-align: right;\n",
              "    }\n",
              "</style>\n",
              "<table border=\"1\" class=\"dataframe\">\n",
              "  <thead>\n",
              "    <tr style=\"text-align: right;\">\n",
              "      <th></th>\n",
              "      <th>ID</th>\n",
              "      <th>Reason for absence</th>\n",
              "      <th>Month of absence</th>\n",
              "      <th>Day of the week</th>\n",
              "      <th>Seasons</th>\n",
              "      <th>Transportation expense</th>\n",
              "      <th>Distance from Residence to Work</th>\n",
              "      <th>Service time</th>\n",
              "      <th>Age</th>\n",
              "      <th>Work load Average/day</th>\n",
              "      <th>Hit target</th>\n",
              "      <th>Disciplinary failure</th>\n",
              "      <th>Education</th>\n",
              "      <th>Son</th>\n",
              "      <th>Social drinker</th>\n",
              "      <th>Social smoker</th>\n",
              "      <th>Pet</th>\n",
              "      <th>Height</th>\n",
              "      <th>Body mass index</th>\n",
              "      <th>Absent hours 2011</th>\n",
              "    </tr>\n",
              "  </thead>\n",
              "  <tbody>\n",
              "    <tr>\n",
              "      <th>0</th>\n",
              "      <td>11.0</td>\n",
              "      <td>26.0</td>\n",
              "      <td>7.0</td>\n",
              "      <td>3.0</td>\n",
              "      <td>1.0</td>\n",
              "      <td>0.657692</td>\n",
              "      <td>0.659574</td>\n",
              "      <td>0.521739</td>\n",
              "      <td>0.230769</td>\n",
              "      <td>0.244925</td>\n",
              "      <td>0.769231</td>\n",
              "      <td>0.0</td>\n",
              "      <td>1.0</td>\n",
              "      <td>2.0</td>\n",
              "      <td>1.0</td>\n",
              "      <td>0.0</td>\n",
              "      <td>1.0</td>\n",
              "      <td>0.700000</td>\n",
              "      <td>0.578947</td>\n",
              "      <td>5.298199</td>\n",
              "    </tr>\n",
              "    <tr>\n",
              "      <th>1</th>\n",
              "      <td>36.0</td>\n",
              "      <td>0.0</td>\n",
              "      <td>7.0</td>\n",
              "      <td>3.0</td>\n",
              "      <td>1.0</td>\n",
              "      <td>0.000000</td>\n",
              "      <td>0.170213</td>\n",
              "      <td>0.739130</td>\n",
              "      <td>0.884615</td>\n",
              "      <td>0.244925</td>\n",
              "      <td>0.769231</td>\n",
              "      <td>1.0</td>\n",
              "      <td>1.0</td>\n",
              "      <td>1.0</td>\n",
              "      <td>1.0</td>\n",
              "      <td>0.0</td>\n",
              "      <td>0.0</td>\n",
              "      <td>0.500001</td>\n",
              "      <td>0.631579</td>\n",
              "      <td>1.549874</td>\n",
              "    </tr>\n",
              "    <tr>\n",
              "      <th>2</th>\n",
              "      <td>3.0</td>\n",
              "      <td>23.0</td>\n",
              "      <td>7.0</td>\n",
              "      <td>4.0</td>\n",
              "      <td>1.0</td>\n",
              "      <td>0.234615</td>\n",
              "      <td>0.978723</td>\n",
              "      <td>0.739130</td>\n",
              "      <td>0.423077</td>\n",
              "      <td>0.244925</td>\n",
              "      <td>0.769231</td>\n",
              "      <td>0.0</td>\n",
              "      <td>1.0</td>\n",
              "      <td>0.0</td>\n",
              "      <td>1.0</td>\n",
              "      <td>0.0</td>\n",
              "      <td>0.0</td>\n",
              "      <td>0.500000</td>\n",
              "      <td>0.631579</td>\n",
              "      <td>2.956833</td>\n",
              "    </tr>\n",
              "    <tr>\n",
              "      <th>3</th>\n",
              "      <td>7.0</td>\n",
              "      <td>7.0</td>\n",
              "      <td>7.0</td>\n",
              "      <td>5.0</td>\n",
              "      <td>1.0</td>\n",
              "      <td>0.619231</td>\n",
              "      <td>0.000000</td>\n",
              "      <td>0.565217</td>\n",
              "      <td>0.461538</td>\n",
              "      <td>0.244925</td>\n",
              "      <td>0.769231</td>\n",
              "      <td>0.0</td>\n",
              "      <td>1.0</td>\n",
              "      <td>2.0</td>\n",
              "      <td>1.0</td>\n",
              "      <td>1.0</td>\n",
              "      <td>0.0</td>\n",
              "      <td>0.300000</td>\n",
              "      <td>0.263158</td>\n",
              "      <td>4.346205</td>\n",
              "    </tr>\n",
              "    <tr>\n",
              "      <th>4</th>\n",
              "      <td>11.0</td>\n",
              "      <td>23.0</td>\n",
              "      <td>7.0</td>\n",
              "      <td>5.0</td>\n",
              "      <td>1.0</td>\n",
              "      <td>0.657692</td>\n",
              "      <td>0.659574</td>\n",
              "      <td>0.521739</td>\n",
              "      <td>0.230769</td>\n",
              "      <td>0.244925</td>\n",
              "      <td>0.769231</td>\n",
              "      <td>0.0</td>\n",
              "      <td>1.0</td>\n",
              "      <td>2.0</td>\n",
              "      <td>1.0</td>\n",
              "      <td>0.0</td>\n",
              "      <td>1.0</td>\n",
              "      <td>0.700000</td>\n",
              "      <td>0.578947</td>\n",
              "      <td>3.282287</td>\n",
              "    </tr>\n",
              "  </tbody>\n",
              "</table>\n",
              "</div>"
            ],
            "text/plain": [
              "     ID  Reason for absence  ...  Body mass index  Absent hours 2011\n",
              "0  11.0                26.0  ...         0.578947           5.298199\n",
              "1  36.0                 0.0  ...         0.631579           1.549874\n",
              "2   3.0                23.0  ...         0.631579           2.956833\n",
              "3   7.0                 7.0  ...         0.263158           4.346205\n",
              "4  11.0                23.0  ...         0.578947           3.282287\n",
              "\n",
              "[5 rows x 20 columns]"
            ]
          },
          "metadata": {
            "tags": []
          },
          "execution_count": 66
        }
      ]
    },
    {
      "cell_type": "code",
      "metadata": {
        "id": "U1nQTeNaD6xN",
        "colab_type": "code",
        "colab": {
          "base_uri": "https://localhost:8080/",
          "height": 447
        },
        "outputId": "67d5b485-d499-4136-af21-f4b484bfcde3"
      },
      "source": [
        "#Predicted absence hours per month of 2011\n",
        "monthly_absence= Predit_2011.groupby('Month of absence').sum().reset_index()[['Month of absence','Absent hours 2011']]\n",
        "monthly_absence=monthly_absence.drop(monthly_absence.index[0])\n",
        "monthly_absence"
      ],
      "execution_count": 67,
      "outputs": [
        {
          "output_type": "execute_result",
          "data": {
            "text/html": [
              "<div>\n",
              "<style scoped>\n",
              "    .dataframe tbody tr th:only-of-type {\n",
              "        vertical-align: middle;\n",
              "    }\n",
              "\n",
              "    .dataframe tbody tr th {\n",
              "        vertical-align: top;\n",
              "    }\n",
              "\n",
              "    .dataframe thead th {\n",
              "        text-align: right;\n",
              "    }\n",
              "</style>\n",
              "<table border=\"1\" class=\"dataframe\">\n",
              "  <thead>\n",
              "    <tr style=\"text-align: right;\">\n",
              "      <th></th>\n",
              "      <th>Month of absence</th>\n",
              "      <th>Absent hours 2011</th>\n",
              "    </tr>\n",
              "  </thead>\n",
              "  <tbody>\n",
              "    <tr>\n",
              "      <th>1</th>\n",
              "      <td>1.0</td>\n",
              "      <td>187.630716</td>\n",
              "    </tr>\n",
              "    <tr>\n",
              "      <th>2</th>\n",
              "      <td>2.0</td>\n",
              "      <td>274.471697</td>\n",
              "    </tr>\n",
              "    <tr>\n",
              "      <th>3</th>\n",
              "      <td>3.0</td>\n",
              "      <td>431.622084</td>\n",
              "    </tr>\n",
              "    <tr>\n",
              "      <th>4</th>\n",
              "      <td>4.0</td>\n",
              "      <td>236.429621</td>\n",
              "    </tr>\n",
              "    <tr>\n",
              "      <th>5</th>\n",
              "      <td>5.0</td>\n",
              "      <td>264.421122</td>\n",
              "    </tr>\n",
              "    <tr>\n",
              "      <th>6</th>\n",
              "      <td>6.0</td>\n",
              "      <td>240.815329</td>\n",
              "    </tr>\n",
              "    <tr>\n",
              "      <th>7</th>\n",
              "      <td>7.0</td>\n",
              "      <td>372.586342</td>\n",
              "    </tr>\n",
              "    <tr>\n",
              "      <th>8</th>\n",
              "      <td>8.0</td>\n",
              "      <td>243.007661</td>\n",
              "    </tr>\n",
              "    <tr>\n",
              "      <th>9</th>\n",
              "      <td>9.0</td>\n",
              "      <td>186.341812</td>\n",
              "    </tr>\n",
              "    <tr>\n",
              "      <th>10</th>\n",
              "      <td>10.0</td>\n",
              "      <td>287.753447</td>\n",
              "    </tr>\n",
              "    <tr>\n",
              "      <th>11</th>\n",
              "      <td>10.0</td>\n",
              "      <td>3.064897</td>\n",
              "    </tr>\n",
              "    <tr>\n",
              "      <th>12</th>\n",
              "      <td>11.0</td>\n",
              "      <td>259.852470</td>\n",
              "    </tr>\n",
              "    <tr>\n",
              "      <th>13</th>\n",
              "      <td>12.0</td>\n",
              "      <td>192.041872</td>\n",
              "    </tr>\n",
              "  </tbody>\n",
              "</table>\n",
              "</div>"
            ],
            "text/plain": [
              "    Month of absence  Absent hours 2011\n",
              "1                1.0         187.630716\n",
              "2                2.0         274.471697\n",
              "3                3.0         431.622084\n",
              "4                4.0         236.429621\n",
              "5                5.0         264.421122\n",
              "6                6.0         240.815329\n",
              "7                7.0         372.586342\n",
              "8                8.0         243.007661\n",
              "9                9.0         186.341812\n",
              "10              10.0         287.753447\n",
              "11              10.0           3.064897\n",
              "12              11.0         259.852470\n",
              "13              12.0         192.041872"
            ]
          },
          "metadata": {
            "tags": []
          },
          "execution_count": 67
        }
      ]
    },
    {
      "cell_type": "markdown",
      "metadata": {
        "id": "zwFsSbjwEIDg",
        "colab_type": "text"
      },
      "source": [
        "#### MONTHLY LOSSES PREDICTED FOR YEAR 2011 PER MONTH"
      ]
    },
    {
      "cell_type": "code",
      "metadata": {
        "id": "cW6sFwMbELKg",
        "colab_type": "code",
        "colab": {
          "base_uri": "https://localhost:8080/",
          "height": 447
        },
        "outputId": "aa342b73-ef15-4bfc-dbbd-3e2f1d1af926"
      },
      "source": [
        "#In a month excluding weekend 22 days are working days.\n",
        "#there are 36 employee in the xyz company : data[\"ID\"].nunique() i.e.36\n",
        "#8 hoursof work per day \n",
        "\n",
        "Total_Monthly_hours = 22*8*36\n",
        "\n",
        "# total losses % = (absent_hours / Total_Monthly_hours)*100\n",
        "monthly_absence['monthly loss percentage'] = (monthly_absence[\"Absent hours 2011\"]/Total_Monthly_hours) * 100\n",
        "\n",
        "monthly_absence"
      ],
      "execution_count": 68,
      "outputs": [
        {
          "output_type": "execute_result",
          "data": {
            "text/html": [
              "<div>\n",
              "<style scoped>\n",
              "    .dataframe tbody tr th:only-of-type {\n",
              "        vertical-align: middle;\n",
              "    }\n",
              "\n",
              "    .dataframe tbody tr th {\n",
              "        vertical-align: top;\n",
              "    }\n",
              "\n",
              "    .dataframe thead th {\n",
              "        text-align: right;\n",
              "    }\n",
              "</style>\n",
              "<table border=\"1\" class=\"dataframe\">\n",
              "  <thead>\n",
              "    <tr style=\"text-align: right;\">\n",
              "      <th></th>\n",
              "      <th>Month of absence</th>\n",
              "      <th>Absent hours 2011</th>\n",
              "      <th>monthly loss percentage</th>\n",
              "    </tr>\n",
              "  </thead>\n",
              "  <tbody>\n",
              "    <tr>\n",
              "      <th>1</th>\n",
              "      <td>1.0</td>\n",
              "      <td>187.630716</td>\n",
              "      <td>2.961343</td>\n",
              "    </tr>\n",
              "    <tr>\n",
              "      <th>2</th>\n",
              "      <td>2.0</td>\n",
              "      <td>274.471697</td>\n",
              "      <td>4.331940</td>\n",
              "    </tr>\n",
              "    <tr>\n",
              "      <th>3</th>\n",
              "      <td>3.0</td>\n",
              "      <td>431.622084</td>\n",
              "      <td>6.812217</td>\n",
              "    </tr>\n",
              "    <tr>\n",
              "      <th>4</th>\n",
              "      <td>4.0</td>\n",
              "      <td>236.429621</td>\n",
              "      <td>3.731528</td>\n",
              "    </tr>\n",
              "    <tr>\n",
              "      <th>5</th>\n",
              "      <td>5.0</td>\n",
              "      <td>264.421122</td>\n",
              "      <td>4.173313</td>\n",
              "    </tr>\n",
              "    <tr>\n",
              "      <th>6</th>\n",
              "      <td>6.0</td>\n",
              "      <td>240.815329</td>\n",
              "      <td>3.800747</td>\n",
              "    </tr>\n",
              "    <tr>\n",
              "      <th>7</th>\n",
              "      <td>7.0</td>\n",
              "      <td>372.586342</td>\n",
              "      <td>5.880466</td>\n",
              "    </tr>\n",
              "    <tr>\n",
              "      <th>8</th>\n",
              "      <td>8.0</td>\n",
              "      <td>243.007661</td>\n",
              "      <td>3.835348</td>\n",
              "    </tr>\n",
              "    <tr>\n",
              "      <th>9</th>\n",
              "      <td>9.0</td>\n",
              "      <td>186.341812</td>\n",
              "      <td>2.941001</td>\n",
              "    </tr>\n",
              "    <tr>\n",
              "      <th>10</th>\n",
              "      <td>10.0</td>\n",
              "      <td>287.753447</td>\n",
              "      <td>4.541563</td>\n",
              "    </tr>\n",
              "    <tr>\n",
              "      <th>11</th>\n",
              "      <td>10.0</td>\n",
              "      <td>3.064897</td>\n",
              "      <td>0.048373</td>\n",
              "    </tr>\n",
              "    <tr>\n",
              "      <th>12</th>\n",
              "      <td>11.0</td>\n",
              "      <td>259.852470</td>\n",
              "      <td>4.101207</td>\n",
              "    </tr>\n",
              "    <tr>\n",
              "      <th>13</th>\n",
              "      <td>12.0</td>\n",
              "      <td>192.041872</td>\n",
              "      <td>3.030964</td>\n",
              "    </tr>\n",
              "  </tbody>\n",
              "</table>\n",
              "</div>"
            ],
            "text/plain": [
              "    Month of absence  Absent hours 2011  monthly loss percentage\n",
              "1                1.0         187.630716                 2.961343\n",
              "2                2.0         274.471697                 4.331940\n",
              "3                3.0         431.622084                 6.812217\n",
              "4                4.0         236.429621                 3.731528\n",
              "5                5.0         264.421122                 4.173313\n",
              "6                6.0         240.815329                 3.800747\n",
              "7                7.0         372.586342                 5.880466\n",
              "8                8.0         243.007661                 3.835348\n",
              "9                9.0         186.341812                 2.941001\n",
              "10              10.0         287.753447                 4.541563\n",
              "11              10.0           3.064897                 0.048373\n",
              "12              11.0         259.852470                 4.101207\n",
              "13              12.0         192.041872                 3.030964"
            ]
          },
          "metadata": {
            "tags": []
          },
          "execution_count": 68
        }
      ]
    },
    {
      "cell_type": "code",
      "metadata": {
        "id": "pMCYltvQE-i3",
        "colab_type": "code",
        "colab": {}
      },
      "source": [
        "#saving output results\n",
        "Predit_2011.to_csv(\"Employee_Absenteeism_2011.csv\",index=False)\n",
        "monthly_absence.to_csv(\"Monthly_loss.csv\",index=False)"
      ],
      "execution_count": 0,
      "outputs": []
    }
  ]
}